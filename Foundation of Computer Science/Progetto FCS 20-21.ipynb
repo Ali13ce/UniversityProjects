{
 "cells": [
  {
   "cell_type": "markdown",
   "metadata": {},
   "source": [
    "# PROGETTO FCS 2020-2021"
   ]
  },
  {
   "cell_type": "markdown",
   "metadata": {},
   "source": [
    "Ondei Alice 826399 \\\n",
    "Venturi Alessandro 864012"
   ]
  },
  {
   "cell_type": "markdown",
   "metadata": {},
   "source": [
    "### Librerie"
   ]
  },
  {
   "cell_type": "code",
   "execution_count": 1,
   "metadata": {},
   "outputs": [],
   "source": [
    "import numpy as np\n",
    "import pandas as pd\n",
    "import re\n",
    "from difflib import get_close_matches"
   ]
  },
  {
   "cell_type": "markdown",
   "metadata": {},
   "source": [
    "Si importano i datasets."
   ]
  },
  {
   "cell_type": "code",
   "execution_count": 2,
   "metadata": {},
   "outputs": [],
   "source": [
    "times = pd.read_csv(\"timesData.csv\")\n",
    "shangai = pd.read_csv(\"shanghaiData.csv\")\n",
    "cwur = pd.read_csv(\"cwurData.csv\")"
   ]
  },
  {
   "cell_type": "markdown",
   "metadata": {},
   "source": [
    "*cwur* ha il nome della colonna riferita al nome delle università diverso dagli altri ranking. Si procede a normalizzare tale nome."
   ]
  },
  {
   "cell_type": "code",
   "execution_count": 3,
   "metadata": {},
   "outputs": [],
   "source": [
    "cwur.rename(columns={\"institution\": \"university_name\"}, inplace = True)"
   ]
  },
  {
   "cell_type": "markdown",
   "metadata": {},
   "source": [
    "*shangai* ha alcune righe vuote che si eliminano."
   ]
  },
  {
   "cell_type": "code",
   "execution_count": 4,
   "metadata": {},
   "outputs": [],
   "source": [
    "shangai = shangai.loc[shangai.university_name.notnull()]"
   ]
  },
  {
   "cell_type": "markdown",
   "metadata": {},
   "source": [
    "## Pre Processing"
   ]
  },
  {
   "cell_type": "markdown",
   "metadata": {},
   "source": [
    "- Normalizzazione nomi università\n",
    "- Correzione nomi paesi\n",
    "- Missing Data\n",
    "- Formato degli attributi"
   ]
  },
  {
   "cell_type": "markdown",
   "metadata": {},
   "source": [
    "### Normalizzazione nomi università"
   ]
  },
  {
   "cell_type": "markdown",
   "metadata": {},
   "source": [
    "Poichè nei diversi ranking sono utilizzati nomi diversi per la stessa università, è necessario apportare delle modifiche così da poter poi operare dei confronti tra i diversi ranking per la stessa università. \\\n",
    "Si è inoltre notato che all'interno del ranking *shangai* alcune università hanno nomi diversi a seconda dell'anno, quindi si decide di utilizzare il ranking *times* come riferimento per i nomi, e si assegnano così i nomi di *times* ai ranking *shangai* e *cwur*."
   ]
  },
  {
   "cell_type": "markdown",
   "metadata": {},
   "source": [
    "Per prima cosa si portano tutti i nomi in minuscolo."
   ]
  },
  {
   "cell_type": "code",
   "execution_count": 5,
   "metadata": {},
   "outputs": [],
   "source": [
    "def normalize_universities(row):\n",
    "    return row['university_name'].lower()\n",
    "\n",
    "times['university_name'] = times.apply(normalize_universities, axis = 1)\n",
    "shangai['university_name'] = shangai.apply(normalize_universities, axis = 1)\n",
    "cwur['university_name'] = cwur.apply(normalize_universities, axis = 1)"
   ]
  },
  {
   "cell_type": "markdown",
   "metadata": {},
   "source": [
    "Successivamente si ricercano, tra ranking diversi, i nomi diversi ma simili, servendosi della libreria **difflib**, che offre la funzione **get_close_matches** che confronta delle stringhe e, a seconda di un *cutoff* fissato dall'utente, restituisce i match per cui la *normalized edit distance* eccede il *cutoff*. \\\n",
    "Inoltre se il nome presente in *shangai* o *cwur* è già presente in *times* il confronto non è operato. \\\n",
    "I match così ottenuti sono poi valutati manualmente per rimuovere le università diverse ma con nomi simili. \\\n",
    "Infine in *shangai* e *cwur* sono sostituiti i nomi con quelli presenti in *times*."
   ]
  },
  {
   "cell_type": "code",
   "execution_count": 6,
   "metadata": {},
   "outputs": [],
   "source": [
    "def alternate_names_finder(df1, times = times):\n",
    "    outputs = {}\n",
    "    for university1 in set(df1['university_name']):\n",
    "        norm_university1 = str.replace(university1, 'university', '')\n",
    "        norm_university1 = str.replace(norm_university1, ' of ', '')\n",
    "        if university1 not in set(times['university_name']):\n",
    "            for university2 in set(times['university_name']):\n",
    "                norm_university2 = str.replace(university2, 'university', '')\n",
    "                norm_university2 = str.replace(norm_university2, ' of ', '')\n",
    "                out = get_close_matches(norm_university1, [norm_university2], n = 1, cutoff = 0.80)\n",
    "                if (len(out) != 0):\n",
    "                    outputs[university1] = university2\n",
    "    return outputs\n",
    "\n",
    "def outputs_cleaner(outputs, no_keys):\n",
    "    for key in no_keys:\n",
    "        del outputs[key]\n",
    "    return outputs\n",
    "\n",
    "def university_cleaner(row, outputs):\n",
    "    if (row['university_name'] in list(outputs.keys())):\n",
    "        return outputs[row['university_name']]\n",
    "    else:\n",
    "        return row['university_name']"
   ]
  },
  {
   "cell_type": "code",
   "execution_count": 7,
   "metadata": {
    "scrolled": true
   },
   "outputs": [],
   "source": [
    "outputs_shangai = alternate_names_finder(shangai)"
   ]
  },
  {
   "cell_type": "code",
   "execution_count": 8,
   "metadata": {},
   "outputs": [],
   "source": [
    "outputs_cwur = alternate_names_finder(cwur)"
   ]
  },
  {
   "cell_type": "markdown",
   "metadata": {},
   "source": [
    "Un esempio di output:"
   ]
  },
  {
   "cell_type": "code",
   "execution_count": 9,
   "metadata": {
    "scrolled": false
   },
   "outputs": [
    {
     "data": {
      "text/plain": [
       "{'toho university': 'tohoku university',\n",
       " 'university of montpellier': 'montpellier university',\n",
       " \"king's college london\": 'king’s college london',\n",
       " 'wageningen university and research centre': 'wageningen university and research center',\n",
       " 'university of maryland, baltimore': 'university of maryland, baltimore county'}"
      ]
     },
     "execution_count": 9,
     "metadata": {},
     "output_type": "execute_result"
    }
   ],
   "source": [
    "{k: outputs_cwur[k] for k in list(outputs_cwur)[:5]}"
   ]
  },
  {
   "cell_type": "markdown",
   "metadata": {},
   "source": [
    "Si procede con la ricerca manuale dei match spuri."
   ]
  },
  {
   "cell_type": "code",
   "execution_count": 10,
   "metadata": {
    "scrolled": false
   },
   "outputs": [],
   "source": [
    "no_keys_shangai = ['nara institute of science and technology', 'espci paristech', 'university of kansas medical center', 'university of genova', 'king abdullah university of science and technology', 'curtin university of technology', 'weizmann institute of science', 'federal university of sao paulo', 'capital university of medical sciences', 'royal institute of technology', 'the hong kong university of science and technology', 'university of montpellier 2']\n",
    "no_keys_cwur = ['ulsan national institute of science and technology', 'école normale supérieure de cachan', 'école normale supérieure - paris', 'grenoble institute of technology', 'federal university of são paulo', 'wrocław university of technology', 'university of north dakota',  'saitama medical university', 'toho university', 'pukyong national university', 'nara institute of science and technology', 'nanjing university of science and technology', 'trent university', 'darmstadt university of technology', 'kyoto institute of technology', 'federal university of santa maria', 'nanjing agricultural university', 'hefei university of technology', 'south china normal university', 'central china normal university', 'king abdullah university of science and technology', 'southern medical university', 'weizmann institute of science', 'royal institute of technology', 'nagoya institute of technology', 'university of salerno', 'national dong hwa university', 'zhejiang university of technology', 'university of montpellier 1', 'university of montpellier 2']\n"
   ]
  },
  {
   "cell_type": "code",
   "execution_count": 11,
   "metadata": {},
   "outputs": [
    {
     "name": "stdout",
     "output_type": "stream",
     "text": [
      "In outputs_shangai sono presenti 95 match, di questi ne eliminiamo 12\n",
      "In outputs_cwur sono presenti 84 match, di questi ne eliminiamo 30\n"
     ]
    }
   ],
   "source": [
    "print('In outputs_shangai sono presenti ' + str(len(outputs_shangai)), 'match, di questi ne eliminiamo ' + str(len(no_keys_shangai)))\n",
    "print('In outputs_cwur sono presenti ' + str(len(outputs_cwur)), 'match, di questi ne eliminiamo ' + str(len(no_keys_cwur)))"
   ]
  },
  {
   "cell_type": "code",
   "execution_count": 12,
   "metadata": {},
   "outputs": [],
   "source": [
    "outputs_shangai = outputs_cleaner(outputs_shangai, no_keys_shangai)\n",
    "outputs_cwur = outputs_cleaner(outputs_cwur, no_keys_cwur)"
   ]
  },
  {
   "cell_type": "code",
   "execution_count": 13,
   "metadata": {
    "scrolled": false
   },
   "outputs": [],
   "source": [
    "shangai['university_name'] = shangai.apply(university_cleaner, args = [outputs_shangai], axis = 1)\n",
    "cwur['university_name'] = cwur.apply(university_cleaner, args = [outputs_cwur], axis = 1)"
   ]
  },
  {
   "cell_type": "markdown",
   "metadata": {},
   "source": [
    "Si nota la presenza della *Università di Montpellier* sotto vari pseudonimi."
   ]
  },
  {
   "cell_type": "code",
   "execution_count": 14,
   "metadata": {},
   "outputs": [
    {
     "data": {
      "text/html": [
       "<div>\n",
       "<style scoped>\n",
       "    .dataframe tbody tr th:only-of-type {\n",
       "        vertical-align: middle;\n",
       "    }\n",
       "\n",
       "    .dataframe tbody tr th {\n",
       "        vertical-align: top;\n",
       "    }\n",
       "\n",
       "    .dataframe thead th {\n",
       "        text-align: right;\n",
       "    }\n",
       "</style>\n",
       "<table border=\"1\" class=\"dataframe\">\n",
       "  <thead>\n",
       "    <tr style=\"text-align: right;\">\n",
       "      <th></th>\n",
       "      <th>world_rank</th>\n",
       "      <th>university_name</th>\n",
       "      <th>national_rank</th>\n",
       "      <th>total_score</th>\n",
       "      <th>alumni</th>\n",
       "      <th>award</th>\n",
       "      <th>hici</th>\n",
       "      <th>ns</th>\n",
       "      <th>pub</th>\n",
       "      <th>pcp</th>\n",
       "      <th>year</th>\n",
       "    </tr>\n",
       "  </thead>\n",
       "  <tbody>\n",
       "    <tr>\n",
       "      <th>277</th>\n",
       "      <td>203-300</td>\n",
       "      <td>university of montpellier 2</td>\n",
       "      <td>9-13</td>\n",
       "      <td>NaN</td>\n",
       "      <td>14.0</td>\n",
       "      <td>0.0</td>\n",
       "      <td>13.6</td>\n",
       "      <td>16.9</td>\n",
       "      <td>31.2</td>\n",
       "      <td>16.7</td>\n",
       "      <td>2005</td>\n",
       "    </tr>\n",
       "    <tr>\n",
       "      <th>777</th>\n",
       "      <td>201-300</td>\n",
       "      <td>university of montpellier 2</td>\n",
       "      <td>7-12</td>\n",
       "      <td>NaN</td>\n",
       "      <td>13.5</td>\n",
       "      <td>0.0</td>\n",
       "      <td>13.3</td>\n",
       "      <td>16.6</td>\n",
       "      <td>33.1</td>\n",
       "      <td>18.5</td>\n",
       "      <td>2006</td>\n",
       "    </tr>\n",
       "    <tr>\n",
       "      <th>1282</th>\n",
       "      <td>203-304</td>\n",
       "      <td>university of montpellier 2</td>\n",
       "      <td>8-12</td>\n",
       "      <td>NaN</td>\n",
       "      <td>13.2</td>\n",
       "      <td>0.0</td>\n",
       "      <td>12.8</td>\n",
       "      <td>17.3</td>\n",
       "      <td>31.3</td>\n",
       "      <td>17.6</td>\n",
       "      <td>2007</td>\n",
       "    </tr>\n",
       "    <tr>\n",
       "      <th>1789</th>\n",
       "      <td>201-302</td>\n",
       "      <td>university of montpellier 2</td>\n",
       "      <td>8-14</td>\n",
       "      <td>NaN</td>\n",
       "      <td>12.5</td>\n",
       "      <td>0.0</td>\n",
       "      <td>12.6</td>\n",
       "      <td>17.0</td>\n",
       "      <td>32.1</td>\n",
       "      <td>41.5</td>\n",
       "      <td>2008</td>\n",
       "    </tr>\n",
       "    <tr>\n",
       "      <th>2292</th>\n",
       "      <td>201-302</td>\n",
       "      <td>university of montpellier 2</td>\n",
       "      <td>8-14</td>\n",
       "      <td>NaN</td>\n",
       "      <td>12.2</td>\n",
       "      <td>0.0</td>\n",
       "      <td>12.6</td>\n",
       "      <td>14.4</td>\n",
       "      <td>32.9</td>\n",
       "      <td>17.6</td>\n",
       "      <td>2009</td>\n",
       "    </tr>\n",
       "    <tr>\n",
       "      <th>2792</th>\n",
       "      <td>201-300</td>\n",
       "      <td>university of montpellier 2</td>\n",
       "      <td>8-13</td>\n",
       "      <td>NaN</td>\n",
       "      <td>11.9</td>\n",
       "      <td>0.0</td>\n",
       "      <td>12.5</td>\n",
       "      <td>15.6</td>\n",
       "      <td>32.4</td>\n",
       "      <td>17.5</td>\n",
       "      <td>2010</td>\n",
       "    </tr>\n",
       "    <tr>\n",
       "      <th>3291</th>\n",
       "      <td>201-300</td>\n",
       "      <td>university of montpellier 2</td>\n",
       "      <td>9-13</td>\n",
       "      <td>NaN</td>\n",
       "      <td>11.8</td>\n",
       "      <td>0.0</td>\n",
       "      <td>12.5</td>\n",
       "      <td>16.6</td>\n",
       "      <td>31.4</td>\n",
       "      <td>17.0</td>\n",
       "      <td>2011</td>\n",
       "    </tr>\n",
       "    <tr>\n",
       "      <th>3795</th>\n",
       "      <td>201-300</td>\n",
       "      <td>university of montpellier 2</td>\n",
       "      <td>9-13</td>\n",
       "      <td>NaN</td>\n",
       "      <td>10.8</td>\n",
       "      <td>0.0</td>\n",
       "      <td>12.5</td>\n",
       "      <td>15.5</td>\n",
       "      <td>30.2</td>\n",
       "      <td>16.5</td>\n",
       "      <td>2012</td>\n",
       "    </tr>\n",
       "    <tr>\n",
       "      <th>4174</th>\n",
       "      <td>201-300</td>\n",
       "      <td>university of montpellier 2</td>\n",
       "      <td>9-14</td>\n",
       "      <td>NaN</td>\n",
       "      <td>10.5</td>\n",
       "      <td>0.0</td>\n",
       "      <td>6.3</td>\n",
       "      <td>15.0</td>\n",
       "      <td>31.1</td>\n",
       "      <td>17.3</td>\n",
       "      <td>2014</td>\n",
       "    </tr>\n",
       "    <tr>\n",
       "      <th>4676</th>\n",
       "      <td>201-300</td>\n",
       "      <td>montpellier university</td>\n",
       "      <td>9-15</td>\n",
       "      <td>NaN</td>\n",
       "      <td>10.3</td>\n",
       "      <td>0.0</td>\n",
       "      <td>6.3</td>\n",
       "      <td>17.7</td>\n",
       "      <td>35.9</td>\n",
       "      <td>14.1</td>\n",
       "      <td>2015</td>\n",
       "    </tr>\n",
       "  </tbody>\n",
       "</table>\n",
       "</div>"
      ],
      "text/plain": [
       "     world_rank              university_name national_rank  total_score  \\\n",
       "277     203-300  university of montpellier 2          9-13          NaN   \n",
       "777     201-300  university of montpellier 2          7-12          NaN   \n",
       "1282    203-304  university of montpellier 2          8-12          NaN   \n",
       "1789    201-302  university of montpellier 2          8-14          NaN   \n",
       "2292    201-302  university of montpellier 2          8-14          NaN   \n",
       "2792    201-300  university of montpellier 2          8-13          NaN   \n",
       "3291    201-300  university of montpellier 2          9-13          NaN   \n",
       "3795    201-300  university of montpellier 2          9-13          NaN   \n",
       "4174    201-300  university of montpellier 2          9-14          NaN   \n",
       "4676    201-300       montpellier university          9-15          NaN   \n",
       "\n",
       "      alumni  award  hici    ns   pub   pcp  year  \n",
       "277     14.0    0.0  13.6  16.9  31.2  16.7  2005  \n",
       "777     13.5    0.0  13.3  16.6  33.1  18.5  2006  \n",
       "1282    13.2    0.0  12.8  17.3  31.3  17.6  2007  \n",
       "1789    12.5    0.0  12.6  17.0  32.1  41.5  2008  \n",
       "2292    12.2    0.0  12.6  14.4  32.9  17.6  2009  \n",
       "2792    11.9    0.0  12.5  15.6  32.4  17.5  2010  \n",
       "3291    11.8    0.0  12.5  16.6  31.4  17.0  2011  \n",
       "3795    10.8    0.0  12.5  15.5  30.2  16.5  2012  \n",
       "4174    10.5    0.0   6.3  15.0  31.1  17.3  2014  \n",
       "4676    10.3    0.0   6.3  17.7  35.9  14.1  2015  "
      ]
     },
     "execution_count": 14,
     "metadata": {},
     "output_type": "execute_result"
    }
   ],
   "source": [
    "shangai.loc[shangai.university_name.str.contains('montpellier')]"
   ]
  },
  {
   "cell_type": "code",
   "execution_count": 15,
   "metadata": {
    "scrolled": true
   },
   "outputs": [
    {
     "data": {
      "text/plain": [
       "{'montpellier university', 'university of montpellier 2'}"
      ]
     },
     "execution_count": 15,
     "metadata": {},
     "output_type": "execute_result"
    }
   ],
   "source": [
    "set(shangai.loc[shangai.university_name.str.contains('montpellier')]['university_name'])"
   ]
  },
  {
   "cell_type": "code",
   "execution_count": 16,
   "metadata": {},
   "outputs": [
    {
     "data": {
      "text/plain": [
       "{'montpellier university'}"
      ]
     },
     "execution_count": 16,
     "metadata": {},
     "output_type": "execute_result"
    }
   ],
   "source": [
    "set(times.loc[times.university_name.str.contains('montpellier')]['university_name'])"
   ]
  },
  {
   "cell_type": "code",
   "execution_count": 17,
   "metadata": {},
   "outputs": [
    {
     "data": {
      "text/plain": [
       "{'montpellier university',\n",
       " 'paul valéry university, montpellier iii',\n",
       " 'university of montpellier 1',\n",
       " 'university of montpellier 2'}"
      ]
     },
     "execution_count": 17,
     "metadata": {},
     "output_type": "execute_result"
    }
   ],
   "source": [
    "set(cwur.loc[cwur.university_name.str.contains('montpellier')]['university_name'])"
   ]
  },
  {
   "cell_type": "markdown",
   "metadata": {},
   "source": [
    "Una rapida ricerca su internet (https://it.wikipedia.org/wiki/Università_di_Montpellier) ci porta a scoprire che l'*Università di Montpellier* è stata soppressa nel 1970, da essa sono nate tre università (stesso nome con (1,2,3) in fondo). Essendo i ranking riferiti ad anni più recenti, non risulta ben chiaro a cosa si riferisca la generica *Montpellier University*, se ad una delle tre oppure ad una sorta di aggregato.\\\n",
    "Si decide pertanto di eliminare la *Montpellier University*, evitando così assunzioni ingiustificate."
   ]
  },
  {
   "cell_type": "code",
   "execution_count": 18,
   "metadata": {
    "scrolled": true
   },
   "outputs": [],
   "source": [
    "times = times.loc[~times.university_name.str.match(r'.*montpellier')].reset_index()\n",
    "shangai = shangai.loc[~shangai.university_name.str.match(r'.*montpellier')].reset_index()\n",
    "cwur = cwur.loc[~cwur.university_name.str.match(r'.*montpellier')].reset_index()"
   ]
  },
  {
   "cell_type": "markdown",
   "metadata": {},
   "source": [
    "La normalizzazione dei nomi delle università è ora completata. \\\n",
    "Non ci si aspetta un risultato perfetto dalla procedura eseguita, \n",
    "per cui è possibile che alcune università siano ancora presenti con nomi diversi nei vari rankings, tuttavia ci si \n",
    "aspetta che ciò avvenga per pochi casi, quindi che l'effetto sia trascurabile."
   ]
  },
  {
   "cell_type": "markdown",
   "metadata": {},
   "source": [
    "### Correzione nomi paesi"
   ]
  },
  {
   "cell_type": "markdown",
   "metadata": {},
   "source": [
    "Si nota che in times sono presenti alcuni nomi di paese errati, come *Unisted States of America* e *Unted Kingdom*. \\\n",
    "Poichè in seguito sarà richiesto di raggruppare per paese è necessario correggere tali occorrenze.\\\n",
    "Si ripete il procedimento già seguito per la normalizzazione dei nomi delle università, come riferimento si prende la lista dei paesi presenti nel dataset *school_and_country_table.csv*.\\\n",
    "Come prima cosa si carica il dataset e si portano tutti i nomi dei paesi in minuscolo."
   ]
  },
  {
   "cell_type": "code",
   "execution_count": 19,
   "metadata": {
    "scrolled": true
   },
   "outputs": [
    {
     "data": {
      "text/html": [
       "<div>\n",
       "<style scoped>\n",
       "    .dataframe tbody tr th:only-of-type {\n",
       "        vertical-align: middle;\n",
       "    }\n",
       "\n",
       "    .dataframe tbody tr th {\n",
       "        vertical-align: top;\n",
       "    }\n",
       "\n",
       "    .dataframe thead th {\n",
       "        text-align: right;\n",
       "    }\n",
       "</style>\n",
       "<table border=\"1\" class=\"dataframe\">\n",
       "  <thead>\n",
       "    <tr style=\"text-align: right;\">\n",
       "      <th></th>\n",
       "      <th>index</th>\n",
       "      <th>world_rank</th>\n",
       "      <th>university_name</th>\n",
       "      <th>country</th>\n",
       "      <th>teaching</th>\n",
       "      <th>international</th>\n",
       "      <th>research</th>\n",
       "      <th>citations</th>\n",
       "      <th>income</th>\n",
       "      <th>total_score</th>\n",
       "      <th>num_students</th>\n",
       "      <th>student_staff_ratio</th>\n",
       "      <th>international_students</th>\n",
       "      <th>female_male_ratio</th>\n",
       "      <th>year</th>\n",
       "    </tr>\n",
       "  </thead>\n",
       "  <tbody>\n",
       "    <tr>\n",
       "      <th>2200</th>\n",
       "      <td>2205</td>\n",
       "      <td>401-500</td>\n",
       "      <td>aston university</td>\n",
       "      <td>Unted Kingdom</td>\n",
       "      <td>18.4</td>\n",
       "      <td>92.5</td>\n",
       "      <td>20.4</td>\n",
       "      <td>51.9</td>\n",
       "      <td>34.6</td>\n",
       "      <td>-</td>\n",
       "      <td>NaN</td>\n",
       "      <td>NaN</td>\n",
       "      <td>NaN</td>\n",
       "      <td>NaN</td>\n",
       "      <td>2016</td>\n",
       "    </tr>\n",
       "  </tbody>\n",
       "</table>\n",
       "</div>"
      ],
      "text/plain": [
       "      index world_rank   university_name        country  teaching  \\\n",
       "2200   2205    401-500  aston university  Unted Kingdom      18.4   \n",
       "\n",
       "     international  research  citations income total_score num_students  \\\n",
       "2200          92.5      20.4       51.9   34.6           -          NaN   \n",
       "\n",
       "      student_staff_ratio international_students female_male_ratio  year  \n",
       "2200                  NaN                    NaN               NaN  2016  "
      ]
     },
     "execution_count": 19,
     "metadata": {},
     "output_type": "execute_result"
    }
   ],
   "source": [
    "times.loc[times.country == 'Unted Kingdom']"
   ]
  },
  {
   "cell_type": "code",
   "execution_count": 20,
   "metadata": {
    "scrolled": true
   },
   "outputs": [],
   "source": [
    "countries = pd.read_csv(\"school_and_country_table.csv\")\n",
    "countries.country = countries.apply(lambda row: row['country'].lower(), axis = 1)\n",
    "times.country = times.apply(lambda row: row['country'].lower(), axis = 1)"
   ]
  },
  {
   "cell_type": "code",
   "execution_count": 21,
   "metadata": {},
   "outputs": [],
   "source": [
    "def wrong_country_names_finder(times = times, countries = countries):\n",
    "    outputs = {}\n",
    "    for country in times.country:\n",
    "        country = country.lower()\n",
    "        if country not in set(countries['country']):\n",
    "            out = get_close_matches(country, list(countries.country), n = 1, cutoff = 0.80)\n",
    "            if (len(out) != 0):\n",
    "                outputs[country] = out[0]\n",
    "    return outputs"
   ]
  },
  {
   "cell_type": "code",
   "execution_count": 22,
   "metadata": {
    "scrolled": false
   },
   "outputs": [],
   "source": [
    "outputs = wrong_country_names_finder(times)"
   ]
  },
  {
   "cell_type": "code",
   "execution_count": 23,
   "metadata": {},
   "outputs": [
    {
     "data": {
      "text/plain": [
       "{'unisted states of america': 'united states of america',\n",
       " 'unted kingdom': 'united kingdom'}"
      ]
     },
     "execution_count": 23,
     "metadata": {},
     "output_type": "execute_result"
    }
   ],
   "source": [
    "outputs"
   ]
  },
  {
   "cell_type": "markdown",
   "metadata": {},
   "source": [
    "A differenza di prima ci sono solo due nomi di paese errati e non sono presenti match spuri."
   ]
  },
  {
   "cell_type": "code",
   "execution_count": 24,
   "metadata": {},
   "outputs": [],
   "source": [
    "def country_cleaner(row, outputs):\n",
    "    if (row['country'] in list(outputs.keys())):\n",
    "        return outputs[row['country']]\n",
    "    else:\n",
    "        return row['country'].lower()"
   ]
  },
  {
   "cell_type": "code",
   "execution_count": 25,
   "metadata": {},
   "outputs": [],
   "source": [
    "times['country'] = times.apply(country_cleaner, args = [outputs], axis = 1)"
   ]
  },
  {
   "cell_type": "code",
   "execution_count": 26,
   "metadata": {
    "scrolled": true
   },
   "outputs": [
    {
     "data": {
      "text/plain": [
       "{'argentina',\n",
       " 'australia',\n",
       " 'austria',\n",
       " 'bangladesh',\n",
       " 'belarus',\n",
       " 'belgium',\n",
       " 'brazil',\n",
       " 'canada',\n",
       " 'chile',\n",
       " 'china',\n",
       " 'colombia',\n",
       " 'cyprus',\n",
       " 'czech republic',\n",
       " 'denmark',\n",
       " 'egypt',\n",
       " 'estonia',\n",
       " 'finland',\n",
       " 'france',\n",
       " 'germany',\n",
       " 'ghana',\n",
       " 'greece',\n",
       " 'hong kong',\n",
       " 'hungary',\n",
       " 'iceland',\n",
       " 'india',\n",
       " 'indonesia',\n",
       " 'iran',\n",
       " 'israel',\n",
       " 'italy',\n",
       " 'japan',\n",
       " 'jordan',\n",
       " 'kenya',\n",
       " 'latvia',\n",
       " 'lebanon',\n",
       " 'lithuania',\n",
       " 'luxembourg',\n",
       " 'macau',\n",
       " 'malaysia',\n",
       " 'mexico',\n",
       " 'morocco',\n",
       " 'netherlands',\n",
       " 'new zealand',\n",
       " 'nigeria',\n",
       " 'norway',\n",
       " 'oman',\n",
       " 'pakistan',\n",
       " 'poland',\n",
       " 'portugal',\n",
       " 'qatar',\n",
       " 'republic of ireland',\n",
       " 'romania',\n",
       " 'russian federation',\n",
       " 'saudi arabia',\n",
       " 'serbia',\n",
       " 'singapore',\n",
       " 'slovakia',\n",
       " 'slovenia',\n",
       " 'south africa',\n",
       " 'south korea',\n",
       " 'spain',\n",
       " 'sweden',\n",
       " 'switzerland',\n",
       " 'taiwan',\n",
       " 'thailand',\n",
       " 'turkey',\n",
       " 'uganda',\n",
       " 'ukraine',\n",
       " 'united arab emirates',\n",
       " 'united kingdom',\n",
       " 'united states of america'}"
      ]
     },
     "execution_count": 26,
     "metadata": {},
     "output_type": "execute_result"
    }
   ],
   "source": [
    "set(times.country)"
   ]
  },
  {
   "cell_type": "markdown",
   "metadata": {},
   "source": [
    "### Ranking delle università *('world_rank')*"
   ]
  },
  {
   "cell_type": "markdown",
   "metadata": {},
   "source": [
    "Si nota che i ranking hanno dei formati diversi, in particolare *times* e *shangai* dopo una certa posizione in classifica utilizzano il formato intervallare.\n",
    "La trattazione avverrà in seguito poichè si è deciso di trattare questi casi in maniera distinta a seconda del task proposto."
   ]
  },
  {
   "cell_type": "markdown",
   "metadata": {},
   "source": [
    "### Dati mancanti e formato degli attributi"
   ]
  },
  {
   "cell_type": "markdown",
   "metadata": {},
   "source": [
    "Si nota la presenza di valori espressi come *'-'* nel ranking *times*, non conoscendone il significato si suppone che siano valori mancanti. \\\n",
    "L'attributo *female_male_ratio* viene trasformato in *female_ratio* estraendo la prima parte della stringa. \\\n",
    "Si convertono infine gli attributi al formato più appropriato. "
   ]
  },
  {
   "cell_type": "code",
   "execution_count": 27,
   "metadata": {},
   "outputs": [],
   "source": [
    "def str_to_num(stringa):\n",
    "    if pd.isna(stringa) == False:\n",
    "        stringa = stringa.replace(\",\",\"\") # alcune colonne, come num_students, usano la virgola per distinguere le migliaia.\n",
    "        if stringa == \"-\":\n",
    "            stringa = float('nan') # i '-' vengono sostituiti con i NaN\n",
    "        else:\n",
    "            stringa = float(stringa)\n",
    "    return stringa\n",
    "\n",
    "def perc_to_num(stringa):\n",
    "    if pd.isna(stringa) == False:\n",
    "        stringa = stringa.replace(\"%\",\"\") \n",
    "        stringa = float(stringa) / 100\n",
    "    return stringa\n",
    "\n",
    "def ratio_to_num(stringa):\n",
    "    if pd.isna(stringa) == False:\n",
    "        if stringa == \"-\":\n",
    "            stringa = float('nan')\n",
    "        else:\n",
    "            stringa = re.search(\"(\\d*) : (\\d*)\", stringa).group(1) # si estrae la percentuale di femmine\n",
    "            stringa = float(stringa) / 100\n",
    "    return stringa"
   ]
  },
  {
   "cell_type": "code",
   "execution_count": 28,
   "metadata": {},
   "outputs": [],
   "source": [
    "def times_df_cleaner(row):\n",
    "    row['income'] = str_to_num(row['income'])\n",
    "    row['international'] = str_to_num(row['international'])\n",
    "    row['total_score'] = str_to_num(row['total_score'])\n",
    "    row['num_students'] = str_to_num(row['num_students'])\n",
    "    row['international_students'] = perc_to_num(row['international_students'])\n",
    "    row['female_male_ratio'] = ratio_to_num(row['female_male_ratio'])\n",
    "    return row"
   ]
  },
  {
   "cell_type": "code",
   "execution_count": 29,
   "metadata": {},
   "outputs": [],
   "source": [
    "times = times.apply(times_df_cleaner, axis = 1)"
   ]
  },
  {
   "cell_type": "markdown",
   "metadata": {},
   "source": [
    "Si modifica il nome della colonna *female_male_ratio* che adesso rappresenta il *female_ratio*."
   ]
  },
  {
   "cell_type": "code",
   "execution_count": 30,
   "metadata": {},
   "outputs": [],
   "source": [
    "times.rename(columns = {'female_male_ratio' : 'female_ratio'}, inplace = True)"
   ]
  },
  {
   "cell_type": "markdown",
   "metadata": {},
   "source": [
    "# 1. For each university, extract from the times dataset the most recent and the least recent data, obtaining two separate dataframes"
   ]
  },
  {
   "cell_type": "markdown",
   "metadata": {},
   "source": [
    "Si estrae l'anno meno recente tramite la funzione *idxmin()*."
   ]
  },
  {
   "cell_type": "code",
   "execution_count": 31,
   "metadata": {},
   "outputs": [
    {
     "data": {
      "text/html": [
       "<div>\n",
       "<style scoped>\n",
       "    .dataframe tbody tr th:only-of-type {\n",
       "        vertical-align: middle;\n",
       "    }\n",
       "\n",
       "    .dataframe tbody tr th {\n",
       "        vertical-align: top;\n",
       "    }\n",
       "\n",
       "    .dataframe thead th {\n",
       "        text-align: right;\n",
       "    }\n",
       "</style>\n",
       "<table border=\"1\" class=\"dataframe\">\n",
       "  <thead>\n",
       "    <tr style=\"text-align: right;\">\n",
       "      <th></th>\n",
       "      <th>index</th>\n",
       "      <th>world_rank</th>\n",
       "      <th>university_name</th>\n",
       "      <th>country</th>\n",
       "      <th>teaching</th>\n",
       "      <th>international</th>\n",
       "      <th>research</th>\n",
       "      <th>citations</th>\n",
       "      <th>income</th>\n",
       "      <th>total_score</th>\n",
       "      <th>num_students</th>\n",
       "      <th>student_staff_ratio</th>\n",
       "      <th>international_students</th>\n",
       "      <th>female_ratio</th>\n",
       "      <th>year</th>\n",
       "    </tr>\n",
       "  </thead>\n",
       "  <tbody>\n",
       "    <tr>\n",
       "      <th>500</th>\n",
       "      <td>501</td>\n",
       "      <td>301-350</td>\n",
       "      <td>aalborg university</td>\n",
       "      <td>denmark</td>\n",
       "      <td>19.0</td>\n",
       "      <td>75.3</td>\n",
       "      <td>20.0</td>\n",
       "      <td>27.1</td>\n",
       "      <td>36.4</td>\n",
       "      <td>NaN</td>\n",
       "      <td>17422.0</td>\n",
       "      <td>15.9</td>\n",
       "      <td>0.15</td>\n",
       "      <td>0.48</td>\n",
       "      <td>2012</td>\n",
       "    </tr>\n",
       "    <tr>\n",
       "      <th>501</th>\n",
       "      <td>502</td>\n",
       "      <td>301-350</td>\n",
       "      <td>aalto university</td>\n",
       "      <td>finland</td>\n",
       "      <td>26.2</td>\n",
       "      <td>49.0</td>\n",
       "      <td>22.2</td>\n",
       "      <td>37.5</td>\n",
       "      <td>61.9</td>\n",
       "      <td>NaN</td>\n",
       "      <td>16099.0</td>\n",
       "      <td>24.2</td>\n",
       "      <td>0.17</td>\n",
       "      <td>0.32</td>\n",
       "      <td>2012</td>\n",
       "    </tr>\n",
       "    <tr>\n",
       "      <th>166</th>\n",
       "      <td>166</td>\n",
       "      <td>167</td>\n",
       "      <td>aarhus university</td>\n",
       "      <td>denmark</td>\n",
       "      <td>38.1</td>\n",
       "      <td>33.4</td>\n",
       "      <td>55.6</td>\n",
       "      <td>57.3</td>\n",
       "      <td>61.5</td>\n",
       "      <td>49.9</td>\n",
       "      <td>23895.0</td>\n",
       "      <td>13.6</td>\n",
       "      <td>0.14</td>\n",
       "      <td>0.54</td>\n",
       "      <td>2011</td>\n",
       "    </tr>\n",
       "    <tr>\n",
       "      <th>476</th>\n",
       "      <td>476</td>\n",
       "      <td>276-300</td>\n",
       "      <td>aberystwyth university</td>\n",
       "      <td>united kingdom</td>\n",
       "      <td>19.8</td>\n",
       "      <td>63.8</td>\n",
       "      <td>15.5</td>\n",
       "      <td>56.6</td>\n",
       "      <td>35.5</td>\n",
       "      <td>NaN</td>\n",
       "      <td>9252.0</td>\n",
       "      <td>19.2</td>\n",
       "      <td>0.18</td>\n",
       "      <td>0.48</td>\n",
       "      <td>2012</td>\n",
       "    </tr>\n",
       "    <tr>\n",
       "      <th>2399</th>\n",
       "      <td>2404</td>\n",
       "      <td>601-800</td>\n",
       "      <td>adam mickiewicz university</td>\n",
       "      <td>poland</td>\n",
       "      <td>20.0</td>\n",
       "      <td>25.7</td>\n",
       "      <td>11.0</td>\n",
       "      <td>15.3</td>\n",
       "      <td>28.7</td>\n",
       "      <td>NaN</td>\n",
       "      <td>40633.0</td>\n",
       "      <td>15.6</td>\n",
       "      <td>0.01</td>\n",
       "      <td>0.71</td>\n",
       "      <td>2016</td>\n",
       "    </tr>\n",
       "  </tbody>\n",
       "</table>\n",
       "</div>"
      ],
      "text/plain": [
       "      index world_rank             university_name         country  teaching  \\\n",
       "500     501    301-350          aalborg university         denmark      19.0   \n",
       "501     502    301-350            aalto university         finland      26.2   \n",
       "166     166        167           aarhus university         denmark      38.1   \n",
       "476     476    276-300      aberystwyth university  united kingdom      19.8   \n",
       "2399   2404    601-800  adam mickiewicz university          poland      20.0   \n",
       "\n",
       "      international  research  citations  income  total_score  num_students  \\\n",
       "500            75.3      20.0       27.1    36.4          NaN       17422.0   \n",
       "501            49.0      22.2       37.5    61.9          NaN       16099.0   \n",
       "166            33.4      55.6       57.3    61.5         49.9       23895.0   \n",
       "476            63.8      15.5       56.6    35.5          NaN        9252.0   \n",
       "2399           25.7      11.0       15.3    28.7          NaN       40633.0   \n",
       "\n",
       "      student_staff_ratio  international_students  female_ratio  year  \n",
       "500                  15.9                    0.15          0.48  2012  \n",
       "501                  24.2                    0.17          0.32  2012  \n",
       "166                  13.6                    0.14          0.54  2011  \n",
       "476                  19.2                    0.18          0.48  2012  \n",
       "2399                 15.6                    0.01          0.71  2016  "
      ]
     },
     "execution_count": 31,
     "metadata": {},
     "output_type": "execute_result"
    }
   ],
   "source": [
    "times_least_recent = times.iloc[times.groupby('university_name').year.idxmin()].copy()\n",
    "times_least_recent.head(5)"
   ]
  },
  {
   "cell_type": "markdown",
   "metadata": {},
   "source": [
    "Si estrae l'anno più recente tramite la funzione *idxmax()*."
   ]
  },
  {
   "cell_type": "code",
   "execution_count": 32,
   "metadata": {},
   "outputs": [
    {
     "data": {
      "text/html": [
       "<div>\n",
       "<style scoped>\n",
       "    .dataframe tbody tr th:only-of-type {\n",
       "        vertical-align: middle;\n",
       "    }\n",
       "\n",
       "    .dataframe tbody tr th {\n",
       "        vertical-align: top;\n",
       "    }\n",
       "\n",
       "    .dataframe thead th {\n",
       "        text-align: right;\n",
       "    }\n",
       "</style>\n",
       "<table border=\"1\" class=\"dataframe\">\n",
       "  <thead>\n",
       "    <tr style=\"text-align: right;\">\n",
       "      <th></th>\n",
       "      <th>index</th>\n",
       "      <th>world_rank</th>\n",
       "      <th>university_name</th>\n",
       "      <th>country</th>\n",
       "      <th>teaching</th>\n",
       "      <th>international</th>\n",
       "      <th>research</th>\n",
       "      <th>citations</th>\n",
       "      <th>income</th>\n",
       "      <th>total_score</th>\n",
       "      <th>num_students</th>\n",
       "      <th>student_staff_ratio</th>\n",
       "      <th>international_students</th>\n",
       "      <th>female_ratio</th>\n",
       "      <th>year</th>\n",
       "    </tr>\n",
       "  </thead>\n",
       "  <tbody>\n",
       "    <tr>\n",
       "      <th>1999</th>\n",
       "      <td>2003</td>\n",
       "      <td>201-250</td>\n",
       "      <td>aalborg university</td>\n",
       "      <td>denmark</td>\n",
       "      <td>25.1</td>\n",
       "      <td>71.0</td>\n",
       "      <td>28.4</td>\n",
       "      <td>73.8</td>\n",
       "      <td>43.7</td>\n",
       "      <td>NaN</td>\n",
       "      <td>17422.0</td>\n",
       "      <td>15.9</td>\n",
       "      <td>0.15</td>\n",
       "      <td>0.48</td>\n",
       "      <td>2016</td>\n",
       "    </tr>\n",
       "    <tr>\n",
       "      <th>2052</th>\n",
       "      <td>2056</td>\n",
       "      <td>251-300</td>\n",
       "      <td>aalto university</td>\n",
       "      <td>finland</td>\n",
       "      <td>31.1</td>\n",
       "      <td>65.4</td>\n",
       "      <td>32.8</td>\n",
       "      <td>62.1</td>\n",
       "      <td>61.6</td>\n",
       "      <td>NaN</td>\n",
       "      <td>16099.0</td>\n",
       "      <td>24.2</td>\n",
       "      <td>0.17</td>\n",
       "      <td>0.32</td>\n",
       "      <td>2016</td>\n",
       "    </tr>\n",
       "    <tr>\n",
       "      <th>1904</th>\n",
       "      <td>1908</td>\n",
       "      <td>=106</td>\n",
       "      <td>aarhus university</td>\n",
       "      <td>denmark</td>\n",
       "      <td>36.9</td>\n",
       "      <td>76.8</td>\n",
       "      <td>50.7</td>\n",
       "      <td>79.8</td>\n",
       "      <td>68.3</td>\n",
       "      <td>57.7</td>\n",
       "      <td>23895.0</td>\n",
       "      <td>13.6</td>\n",
       "      <td>0.14</td>\n",
       "      <td>0.54</td>\n",
       "      <td>2016</td>\n",
       "    </tr>\n",
       "    <tr>\n",
       "      <th>2101</th>\n",
       "      <td>2105</td>\n",
       "      <td>301-350</td>\n",
       "      <td>aberystwyth university</td>\n",
       "      <td>united kingdom</td>\n",
       "      <td>21.6</td>\n",
       "      <td>72.2</td>\n",
       "      <td>18.9</td>\n",
       "      <td>67.2</td>\n",
       "      <td>31.3</td>\n",
       "      <td>NaN</td>\n",
       "      <td>9252.0</td>\n",
       "      <td>19.2</td>\n",
       "      <td>0.18</td>\n",
       "      <td>0.48</td>\n",
       "      <td>2016</td>\n",
       "    </tr>\n",
       "    <tr>\n",
       "      <th>2399</th>\n",
       "      <td>2404</td>\n",
       "      <td>601-800</td>\n",
       "      <td>adam mickiewicz university</td>\n",
       "      <td>poland</td>\n",
       "      <td>20.0</td>\n",
       "      <td>25.7</td>\n",
       "      <td>11.0</td>\n",
       "      <td>15.3</td>\n",
       "      <td>28.7</td>\n",
       "      <td>NaN</td>\n",
       "      <td>40633.0</td>\n",
       "      <td>15.6</td>\n",
       "      <td>0.01</td>\n",
       "      <td>0.71</td>\n",
       "      <td>2016</td>\n",
       "    </tr>\n",
       "  </tbody>\n",
       "</table>\n",
       "</div>"
      ],
      "text/plain": [
       "      index world_rank             university_name         country  teaching  \\\n",
       "1999   2003    201-250          aalborg university         denmark      25.1   \n",
       "2052   2056    251-300            aalto university         finland      31.1   \n",
       "1904   1908       =106           aarhus university         denmark      36.9   \n",
       "2101   2105    301-350      aberystwyth university  united kingdom      21.6   \n",
       "2399   2404    601-800  adam mickiewicz university          poland      20.0   \n",
       "\n",
       "      international  research  citations  income  total_score  num_students  \\\n",
       "1999           71.0      28.4       73.8    43.7          NaN       17422.0   \n",
       "2052           65.4      32.8       62.1    61.6          NaN       16099.0   \n",
       "1904           76.8      50.7       79.8    68.3         57.7       23895.0   \n",
       "2101           72.2      18.9       67.2    31.3          NaN        9252.0   \n",
       "2399           25.7      11.0       15.3    28.7          NaN       40633.0   \n",
       "\n",
       "      student_staff_ratio  international_students  female_ratio  year  \n",
       "1999                 15.9                    0.15          0.48  2016  \n",
       "2052                 24.2                    0.17          0.32  2016  \n",
       "1904                 13.6                    0.14          0.54  2016  \n",
       "2101                 19.2                    0.18          0.48  2016  \n",
       "2399                 15.6                    0.01          0.71  2016  "
      ]
     },
     "execution_count": 32,
     "metadata": {},
     "output_type": "execute_result"
    }
   ],
   "source": [
    "times_most_recent = times.iloc[times.groupby('university_name').year.idxmax()].copy()\n",
    "times_most_recent.head(5)"
   ]
  },
  {
   "cell_type": "markdown",
   "metadata": {},
   "source": [
    "# 2. For each university, compute the improvement in income between the least recent and the most recent data points\n"
   ]
  },
  {
   "cell_type": "markdown",
   "metadata": {},
   "source": [
    "Income contiene dei valori mancanti, per decidere come trattarli è rilevante conoscere quanto siano frequenti."
   ]
  },
  {
   "cell_type": "code",
   "execution_count": 33,
   "metadata": {},
   "outputs": [
    {
     "name": "stdout",
     "output_type": "stream",
     "text": [
      "Il numero di missing values per income è pari a: 8.4%\n"
     ]
    }
   ],
   "source": [
    "print(\"Il numero di missing values per income è pari a: \" + str(round(times.loc[times.income.isnull()].shape[0] / times.shape[0] * 100, 1)) + \"%\")\n"
   ]
  },
  {
   "cell_type": "markdown",
   "metadata": {},
   "source": [
    "I missing in income rappresentano l'8% circa, essendo pochi decidiamo di rimuovere le righe contenenti dei missing."
   ]
  },
  {
   "cell_type": "code",
   "execution_count": 34,
   "metadata": {},
   "outputs": [],
   "source": [
    "times_income_nomiss = times.loc[times.income.notnull()].reset_index().copy()\n",
    "times_income_nomiss['income'] = times_income_nomiss['income'].astype(float)"
   ]
  },
  {
   "cell_type": "markdown",
   "metadata": {},
   "source": [
    "Si ricavano nuovamente i dataframe con gli anni meno e più recenti a partire dal dataframe senza missing."
   ]
  },
  {
   "cell_type": "code",
   "execution_count": 35,
   "metadata": {},
   "outputs": [],
   "source": [
    "times_least_recent_income_nomiss = times_income_nomiss.iloc[times_income_nomiss.groupby('university_name').year.idxmin()]\n",
    "times_most_recent_income_nomiss = times_income_nomiss.iloc[times_income_nomiss.groupby('university_name').year.idxmax()]"
   ]
  },
  {
   "cell_type": "markdown",
   "metadata": {},
   "source": [
    "Si uniscono i due dataframe appena ottenuti tramite la funzione *merge()* con metodo *'inner'*."
   ]
  },
  {
   "cell_type": "code",
   "execution_count": 36,
   "metadata": {},
   "outputs": [
    {
     "data": {
      "text/html": [
       "<div>\n",
       "<style scoped>\n",
       "    .dataframe tbody tr th:only-of-type {\n",
       "        vertical-align: middle;\n",
       "    }\n",
       "\n",
       "    .dataframe tbody tr th {\n",
       "        vertical-align: top;\n",
       "    }\n",
       "\n",
       "    .dataframe thead th {\n",
       "        text-align: right;\n",
       "    }\n",
       "</style>\n",
       "<table border=\"1\" class=\"dataframe\">\n",
       "  <thead>\n",
       "    <tr style=\"text-align: right;\">\n",
       "      <th></th>\n",
       "      <th>university_name</th>\n",
       "      <th>income_least_recent</th>\n",
       "      <th>year_least_recent</th>\n",
       "      <th>income_most_recent</th>\n",
       "      <th>year_most_recent</th>\n",
       "    </tr>\n",
       "  </thead>\n",
       "  <tbody>\n",
       "    <tr>\n",
       "      <th>0</th>\n",
       "      <td>aalborg university</td>\n",
       "      <td>36.4</td>\n",
       "      <td>2012</td>\n",
       "      <td>43.7</td>\n",
       "      <td>2016</td>\n",
       "    </tr>\n",
       "    <tr>\n",
       "      <th>1</th>\n",
       "      <td>aalto university</td>\n",
       "      <td>61.9</td>\n",
       "      <td>2012</td>\n",
       "      <td>61.6</td>\n",
       "      <td>2016</td>\n",
       "    </tr>\n",
       "    <tr>\n",
       "      <th>2</th>\n",
       "      <td>aarhus university</td>\n",
       "      <td>61.5</td>\n",
       "      <td>2011</td>\n",
       "      <td>68.3</td>\n",
       "      <td>2016</td>\n",
       "    </tr>\n",
       "    <tr>\n",
       "      <th>3</th>\n",
       "      <td>aberystwyth university</td>\n",
       "      <td>35.5</td>\n",
       "      <td>2012</td>\n",
       "      <td>31.3</td>\n",
       "      <td>2016</td>\n",
       "    </tr>\n",
       "    <tr>\n",
       "      <th>4</th>\n",
       "      <td>adam mickiewicz university</td>\n",
       "      <td>28.7</td>\n",
       "      <td>2016</td>\n",
       "      <td>28.7</td>\n",
       "      <td>2016</td>\n",
       "    </tr>\n",
       "  </tbody>\n",
       "</table>\n",
       "</div>"
      ],
      "text/plain": [
       "              university_name  income_least_recent  year_least_recent  \\\n",
       "0          aalborg university                 36.4               2012   \n",
       "1            aalto university                 61.9               2012   \n",
       "2           aarhus university                 61.5               2011   \n",
       "3      aberystwyth university                 35.5               2012   \n",
       "4  adam mickiewicz university                 28.7               2016   \n",
       "\n",
       "   income_most_recent  year_most_recent  \n",
       "0                43.7              2016  \n",
       "1                61.6              2016  \n",
       "2                68.3              2016  \n",
       "3                31.3              2016  \n",
       "4                28.7              2016  "
      ]
     },
     "execution_count": 36,
     "metadata": {},
     "output_type": "execute_result"
    }
   ],
   "source": [
    "times_university_income_diff = times_least_recent_income_nomiss[['university_name', 'income', 'year']].merge(\n",
    "    times_most_recent_income_nomiss[['university_name', 'income', 'year']], on = 'university_name', suffixes = ('_least_recent', '_most_recent'))\n",
    "times_university_income_diff.head(5)"
   ]
  },
  {
   "cell_type": "markdown",
   "metadata": {},
   "source": [
    "Si ricava infine il valore della differenza."
   ]
  },
  {
   "cell_type": "code",
   "execution_count": 37,
   "metadata": {
    "scrolled": true
   },
   "outputs": [
    {
     "data": {
      "text/html": [
       "<div>\n",
       "<style scoped>\n",
       "    .dataframe tbody tr th:only-of-type {\n",
       "        vertical-align: middle;\n",
       "    }\n",
       "\n",
       "    .dataframe tbody tr th {\n",
       "        vertical-align: top;\n",
       "    }\n",
       "\n",
       "    .dataframe thead th {\n",
       "        text-align: right;\n",
       "    }\n",
       "</style>\n",
       "<table border=\"1\" class=\"dataframe\">\n",
       "  <thead>\n",
       "    <tr style=\"text-align: right;\">\n",
       "      <th></th>\n",
       "      <th>university_name</th>\n",
       "      <th>income_least_recent</th>\n",
       "      <th>year_least_recent</th>\n",
       "      <th>income_most_recent</th>\n",
       "      <th>year_most_recent</th>\n",
       "      <th>diff</th>\n",
       "    </tr>\n",
       "  </thead>\n",
       "  <tbody>\n",
       "    <tr>\n",
       "      <th>0</th>\n",
       "      <td>aalborg university</td>\n",
       "      <td>36.4</td>\n",
       "      <td>2012</td>\n",
       "      <td>43.7</td>\n",
       "      <td>2016</td>\n",
       "      <td>7.3</td>\n",
       "    </tr>\n",
       "    <tr>\n",
       "      <th>1</th>\n",
       "      <td>aalto university</td>\n",
       "      <td>61.9</td>\n",
       "      <td>2012</td>\n",
       "      <td>61.6</td>\n",
       "      <td>2016</td>\n",
       "      <td>-0.3</td>\n",
       "    </tr>\n",
       "    <tr>\n",
       "      <th>2</th>\n",
       "      <td>aarhus university</td>\n",
       "      <td>61.5</td>\n",
       "      <td>2011</td>\n",
       "      <td>68.3</td>\n",
       "      <td>2016</td>\n",
       "      <td>6.8</td>\n",
       "    </tr>\n",
       "    <tr>\n",
       "      <th>3</th>\n",
       "      <td>aberystwyth university</td>\n",
       "      <td>35.5</td>\n",
       "      <td>2012</td>\n",
       "      <td>31.3</td>\n",
       "      <td>2016</td>\n",
       "      <td>-4.2</td>\n",
       "    </tr>\n",
       "    <tr>\n",
       "      <th>4</th>\n",
       "      <td>adam mickiewicz university</td>\n",
       "      <td>28.7</td>\n",
       "      <td>2016</td>\n",
       "      <td>28.7</td>\n",
       "      <td>2016</td>\n",
       "      <td>0.0</td>\n",
       "    </tr>\n",
       "  </tbody>\n",
       "</table>\n",
       "</div>"
      ],
      "text/plain": [
       "              university_name  income_least_recent  year_least_recent  \\\n",
       "0          aalborg university                 36.4               2012   \n",
       "1            aalto university                 61.9               2012   \n",
       "2           aarhus university                 61.5               2011   \n",
       "3      aberystwyth university                 35.5               2012   \n",
       "4  adam mickiewicz university                 28.7               2016   \n",
       "\n",
       "   income_most_recent  year_most_recent  diff  \n",
       "0                43.7              2016   7.3  \n",
       "1                61.6              2016  -0.3  \n",
       "2                68.3              2016   6.8  \n",
       "3                31.3              2016  -4.2  \n",
       "4                28.7              2016   0.0  "
      ]
     },
     "execution_count": 37,
     "metadata": {},
     "output_type": "execute_result"
    }
   ],
   "source": [
    "times_university_income_diff['diff'] = times_university_income_diff['income_most_recent'] - times_university_income_diff['income_least_recent']\n",
    "times_university_income_diff.head(5)"
   ]
  },
  {
   "cell_type": "markdown",
   "metadata": {},
   "source": [
    "# 3. Find the university with the largest increase computed in the previous point"
   ]
  },
  {
   "cell_type": "markdown",
   "metadata": {},
   "source": [
    "A partire dal dataframe appena ottenuto si ricerca la differenza massima tramite la funzione *idxmax()*."
   ]
  },
  {
   "cell_type": "code",
   "execution_count": 38,
   "metadata": {
    "scrolled": true
   },
   "outputs": [
    {
     "data": {
      "text/plain": [
       "university_name        tu dresden\n",
       "income_least_recent          31.9\n",
       "year_least_recent            2012\n",
       "income_most_recent           99.7\n",
       "year_most_recent             2016\n",
       "diff                         67.8\n",
       "Name: 440, dtype: object"
      ]
     },
     "execution_count": 38,
     "metadata": {},
     "output_type": "execute_result"
    }
   ],
   "source": [
    "times_university_income_diff.iloc[times_university_income_diff['diff'].idxmax()]"
   ]
  },
  {
   "cell_type": "markdown",
   "metadata": {},
   "source": [
    "# 4. For each ranking, consider only the most recent data point. For each university, compute the maximum difference between the rankings (e.g. for Aarhus University the value is 122-73=49). Notice that some rankings are expressed as a range\n",
    "\n"
   ]
  },
  {
   "cell_type": "markdown",
   "metadata": {},
   "source": [
    "Come spiegato in precedenza è necessario trattare i ranking delle università che presentano valori ex-equo, la strada scelta per questo punto è quella di considerare i valori medi per i ranking espressi sotto forma intervallare."
   ]
  },
  {
   "cell_type": "markdown",
   "metadata": {},
   "source": [
    "Si estrae la riga riferita all'anno più recente per ogni università nei ranking *shangai* e *cwur*."
   ]
  },
  {
   "cell_type": "code",
   "execution_count": 39,
   "metadata": {},
   "outputs": [],
   "source": [
    "shangai_most_recent = shangai.iloc[shangai.groupby('university_name').year.idxmax()].copy()"
   ]
  },
  {
   "cell_type": "code",
   "execution_count": 40,
   "metadata": {},
   "outputs": [],
   "source": [
    "cwur_most_recent = cwur.iloc[cwur.groupby('university_name').year.idxmax()].copy()\n",
    "cwur_most_recent.rename(columns={'world_rank': 'world_rank_cwur', 'year': 'year_cwur'}, inplace = True)"
   ]
  },
  {
   "cell_type": "markdown",
   "metadata": {},
   "source": [
    "Si uniscono i rankings in un unico dataframe."
   ]
  },
  {
   "cell_type": "code",
   "execution_count": 41,
   "metadata": {
    "scrolled": true
   },
   "outputs": [
    {
     "data": {
      "text/html": [
       "<div>\n",
       "<style scoped>\n",
       "    .dataframe tbody tr th:only-of-type {\n",
       "        vertical-align: middle;\n",
       "    }\n",
       "\n",
       "    .dataframe tbody tr th {\n",
       "        vertical-align: top;\n",
       "    }\n",
       "\n",
       "    .dataframe thead th {\n",
       "        text-align: right;\n",
       "    }\n",
       "</style>\n",
       "<table border=\"1\" class=\"dataframe\">\n",
       "  <thead>\n",
       "    <tr style=\"text-align: right;\">\n",
       "      <th></th>\n",
       "      <th>university_name</th>\n",
       "      <th>world_rank_times</th>\n",
       "      <th>year_times</th>\n",
       "      <th>world_rank_shangai</th>\n",
       "      <th>year_shangai</th>\n",
       "      <th>world_rank_cwur</th>\n",
       "      <th>year_cwur</th>\n",
       "    </tr>\n",
       "  </thead>\n",
       "  <tbody>\n",
       "    <tr>\n",
       "      <th>0</th>\n",
       "      <td>aalborg university</td>\n",
       "      <td>201-250</td>\n",
       "      <td>2016.0</td>\n",
       "      <td>301-400</td>\n",
       "      <td>2015.0</td>\n",
       "      <td>565.0</td>\n",
       "      <td>2015.0</td>\n",
       "    </tr>\n",
       "    <tr>\n",
       "      <th>1</th>\n",
       "      <td>aalto university</td>\n",
       "      <td>251-300</td>\n",
       "      <td>2016.0</td>\n",
       "      <td>401-500</td>\n",
       "      <td>2015.0</td>\n",
       "      <td>421.0</td>\n",
       "      <td>2015.0</td>\n",
       "    </tr>\n",
       "    <tr>\n",
       "      <th>2</th>\n",
       "      <td>aarhus university</td>\n",
       "      <td>=106</td>\n",
       "      <td>2016.0</td>\n",
       "      <td>73</td>\n",
       "      <td>2015.0</td>\n",
       "      <td>122.0</td>\n",
       "      <td>2015.0</td>\n",
       "    </tr>\n",
       "    <tr>\n",
       "      <th>3</th>\n",
       "      <td>aberystwyth university</td>\n",
       "      <td>301-350</td>\n",
       "      <td>2016.0</td>\n",
       "      <td>NaN</td>\n",
       "      <td>NaN</td>\n",
       "      <td>814.0</td>\n",
       "      <td>2015.0</td>\n",
       "    </tr>\n",
       "    <tr>\n",
       "      <th>4</th>\n",
       "      <td>adam mickiewicz university</td>\n",
       "      <td>601-800</td>\n",
       "      <td>2016.0</td>\n",
       "      <td>NaN</td>\n",
       "      <td>NaN</td>\n",
       "      <td>NaN</td>\n",
       "      <td>NaN</td>\n",
       "    </tr>\n",
       "  </tbody>\n",
       "</table>\n",
       "</div>"
      ],
      "text/plain": [
       "              university_name world_rank_times  year_times world_rank_shangai  \\\n",
       "0          aalborg university          201-250      2016.0            301-400   \n",
       "1            aalto university          251-300      2016.0            401-500   \n",
       "2           aarhus university             =106      2016.0                 73   \n",
       "3      aberystwyth university          301-350      2016.0                NaN   \n",
       "4  adam mickiewicz university          601-800      2016.0                NaN   \n",
       "\n",
       "   year_shangai  world_rank_cwur  year_cwur  \n",
       "0        2015.0            565.0     2015.0  \n",
       "1        2015.0            421.0     2015.0  \n",
       "2        2015.0            122.0     2015.0  \n",
       "3           NaN            814.0     2015.0  \n",
       "4           NaN              NaN        NaN  "
      ]
     },
     "execution_count": 41,
     "metadata": {},
     "output_type": "execute_result"
    }
   ],
   "source": [
    "all_rankings = times_most_recent[['university_name', 'world_rank', 'year']].merge(shangai_most_recent[['university_name', 'world_rank', 'year']], on = 'university_name', suffixes = ('_times', '_shangai'), how = 'outer').merge(cwur_most_recent[['university_name', 'world_rank_cwur', 'year_cwur']], on = 'university_name', how = 'outer')\n",
    "all_rankings.head(5)"
   ]
  },
  {
   "cell_type": "markdown",
   "metadata": {},
   "source": [
    "Prima si sostiuiscono i *NaN* con *9999* per facilitare il riconoscimento da parte della funzione.\n",
    "\n",
    "Si trasformano poi i ranking di *times* e *shangai* in degli intervalli:\n",
    "- Se il valore del ranking è puntuale oppure è un ex-equo l'*upper limit* coinciderà con il *lower limit*.\n",
    "- Se il valore del ranking è un range si estraggono l'*upper limit* e il *lower limit*.\n",
    "- Se il valore del ranking è mancante sia l'*upper limit* che il *lower limit* saranno dei *NaN*.\n",
    "\n",
    "*cwur* ha invece solo ranking puntuali, quindi può essere lasciato invariato."
   ]
  },
  {
   "cell_type": "code",
   "execution_count": 42,
   "metadata": {},
   "outputs": [],
   "source": [
    "all_rankings[['world_rank_times', 'world_rank_shangai']] = all_rankings[['world_rank_times', 'world_rank_shangai']].fillna('9999')\n",
    "\n",
    "def ranger(colonna):\n",
    "    upper=[]\n",
    "    lower=[]\n",
    "    for position in colonna:\n",
    "        if position == '9999':\n",
    "            upper.append(np.nan)\n",
    "            lower.append(np.nan)\n",
    "        elif len(position)<=4:\n",
    "            r=str.replace(position,'=','')\n",
    "            upper.append(r)\n",
    "            lower.append(r)\n",
    "        elif len(position)>4:\n",
    "            lower.append(position[0:3])\n",
    "            upper.append(position[4:7])\n",
    "    return upper, lower\n",
    "\n",
    "all_rankings['times_upper'] = ranger(all_rankings['world_rank_times'])[0]\n",
    "all_rankings['times_lower'] = ranger(all_rankings['world_rank_times'])[1]\n",
    "all_rankings['shangai_upper'] = ranger(all_rankings['world_rank_shangai'])[0]\n",
    "all_rankings['shangai_lower'] = ranger(all_rankings['world_rank_shangai'])[1]\n",
    "\n",
    "all_rankings['times_upper'] = all_rankings['times_upper'].astype(float)\n",
    "all_rankings['times_lower'] = all_rankings['times_lower'].astype(float)\n",
    "all_rankings['shangai_upper'] = all_rankings['shangai_upper'].astype(float)\n",
    "all_rankings['shangai_lower'] = all_rankings['shangai_lower'].astype(float)"
   ]
  },
  {
   "cell_type": "code",
   "execution_count": 43,
   "metadata": {},
   "outputs": [],
   "source": [
    "all_rankings.drop(['world_rank_times', 'world_rank_shangai', 'year_times', 'year_shangai', 'year_cwur'], axis = 1, inplace = True)"
   ]
  },
  {
   "cell_type": "markdown",
   "metadata": {},
   "source": [
    "Si estraggono i valori medi dei ranking dai range."
   ]
  },
  {
   "cell_type": "code",
   "execution_count": 44,
   "metadata": {
    "scrolled": true
   },
   "outputs": [],
   "source": [
    "all_rankings['times_average'] = round((all_rankings['times_upper'] + all_rankings['times_lower'])/2)\n",
    "all_rankings['shangai_average'] = round((all_rankings['shangai_upper'] + all_rankings['shangai_lower'])/2)"
   ]
  },
  {
   "cell_type": "code",
   "execution_count": 45,
   "metadata": {},
   "outputs": [
    {
     "data": {
      "text/html": [
       "<div>\n",
       "<style scoped>\n",
       "    .dataframe tbody tr th:only-of-type {\n",
       "        vertical-align: middle;\n",
       "    }\n",
       "\n",
       "    .dataframe tbody tr th {\n",
       "        vertical-align: top;\n",
       "    }\n",
       "\n",
       "    .dataframe thead th {\n",
       "        text-align: right;\n",
       "    }\n",
       "</style>\n",
       "<table border=\"1\" class=\"dataframe\">\n",
       "  <thead>\n",
       "    <tr style=\"text-align: right;\">\n",
       "      <th></th>\n",
       "      <th>university_name</th>\n",
       "      <th>world_rank_cwur</th>\n",
       "      <th>times_upper</th>\n",
       "      <th>times_lower</th>\n",
       "      <th>shangai_upper</th>\n",
       "      <th>shangai_lower</th>\n",
       "      <th>times_average</th>\n",
       "      <th>shangai_average</th>\n",
       "    </tr>\n",
       "  </thead>\n",
       "  <tbody>\n",
       "    <tr>\n",
       "      <th>0</th>\n",
       "      <td>aalborg university</td>\n",
       "      <td>565.0</td>\n",
       "      <td>250.0</td>\n",
       "      <td>201.0</td>\n",
       "      <td>400.0</td>\n",
       "      <td>301.0</td>\n",
       "      <td>226.0</td>\n",
       "      <td>350.0</td>\n",
       "    </tr>\n",
       "    <tr>\n",
       "      <th>1</th>\n",
       "      <td>aalto university</td>\n",
       "      <td>421.0</td>\n",
       "      <td>300.0</td>\n",
       "      <td>251.0</td>\n",
       "      <td>500.0</td>\n",
       "      <td>401.0</td>\n",
       "      <td>276.0</td>\n",
       "      <td>450.0</td>\n",
       "    </tr>\n",
       "    <tr>\n",
       "      <th>2</th>\n",
       "      <td>aarhus university</td>\n",
       "      <td>122.0</td>\n",
       "      <td>106.0</td>\n",
       "      <td>106.0</td>\n",
       "      <td>73.0</td>\n",
       "      <td>73.0</td>\n",
       "      <td>106.0</td>\n",
       "      <td>73.0</td>\n",
       "    </tr>\n",
       "    <tr>\n",
       "      <th>3</th>\n",
       "      <td>aberystwyth university</td>\n",
       "      <td>814.0</td>\n",
       "      <td>350.0</td>\n",
       "      <td>301.0</td>\n",
       "      <td>NaN</td>\n",
       "      <td>NaN</td>\n",
       "      <td>326.0</td>\n",
       "      <td>NaN</td>\n",
       "    </tr>\n",
       "    <tr>\n",
       "      <th>4</th>\n",
       "      <td>adam mickiewicz university</td>\n",
       "      <td>NaN</td>\n",
       "      <td>800.0</td>\n",
       "      <td>601.0</td>\n",
       "      <td>NaN</td>\n",
       "      <td>NaN</td>\n",
       "      <td>700.0</td>\n",
       "      <td>NaN</td>\n",
       "    </tr>\n",
       "  </tbody>\n",
       "</table>\n",
       "</div>"
      ],
      "text/plain": [
       "              university_name  world_rank_cwur  times_upper  times_lower  \\\n",
       "0          aalborg university            565.0        250.0        201.0   \n",
       "1            aalto university            421.0        300.0        251.0   \n",
       "2           aarhus university            122.0        106.0        106.0   \n",
       "3      aberystwyth university            814.0        350.0        301.0   \n",
       "4  adam mickiewicz university              NaN        800.0        601.0   \n",
       "\n",
       "   shangai_upper  shangai_lower  times_average  shangai_average  \n",
       "0          400.0          301.0          226.0            350.0  \n",
       "1          500.0          401.0          276.0            450.0  \n",
       "2           73.0           73.0          106.0             73.0  \n",
       "3            NaN            NaN          326.0              NaN  \n",
       "4            NaN            NaN          700.0              NaN  "
      ]
     },
     "execution_count": 45,
     "metadata": {},
     "output_type": "execute_result"
    }
   ],
   "source": [
    "all_rankings.head(5)"
   ]
  },
  {
   "cell_type": "markdown",
   "metadata": {},
   "source": [
    "Si ricerca la differenza massima, servendosi della funzione *np.nanmax* che è in grado di trattare i *NaN*, in particolare li ignora se è presente almeno un valore non mancante, mentre restituisce un *NaN* se tutti i valori sono mancanti."
   ]
  },
  {
   "cell_type": "code",
   "execution_count": 46,
   "metadata": {
    "scrolled": true
   },
   "outputs": [
    {
     "name": "stderr",
     "output_type": "stream",
     "text": [
      "/Users/alessandro/opt/anaconda3/lib/python3.7/site-packages/ipykernel_launcher.py:5: RuntimeWarning: All-NaN axis encountered\n",
      "  \"\"\"\n"
     ]
    }
   ],
   "source": [
    "def max_diff_rankings(row):\n",
    "    diff_times_shangai = abs(row['times_average'] - row['shangai_average'])\n",
    "    diff_times_cwur = abs(row['times_average'] - row['world_rank_cwur'])\n",
    "    diff_shangai_cwur = abs(row['shangai_average'] - row['world_rank_cwur'])\n",
    "    return np.nanmax([diff_times_shangai, diff_times_cwur, diff_shangai_cwur])\n",
    "\n",
    "all_rankings['max_diff'] = all_rankings.apply(max_diff_rankings, axis = 1)"
   ]
  },
  {
   "cell_type": "markdown",
   "metadata": {},
   "source": [
    "Il warning ci avverte che la funziona *np.nanmax()* ha incontrato delle righe in cui tutte le differenze sono dei *NaN*, in questo caso la funzione restituisce come massimo un *NaN* che è esattamente il comportamento aspettato."
   ]
  },
  {
   "cell_type": "code",
   "execution_count": 47,
   "metadata": {
    "scrolled": true
   },
   "outputs": [
    {
     "data": {
      "text/html": [
       "<div>\n",
       "<style scoped>\n",
       "    .dataframe tbody tr th:only-of-type {\n",
       "        vertical-align: middle;\n",
       "    }\n",
       "\n",
       "    .dataframe tbody tr th {\n",
       "        vertical-align: top;\n",
       "    }\n",
       "\n",
       "    .dataframe thead th {\n",
       "        text-align: right;\n",
       "    }\n",
       "</style>\n",
       "<table border=\"1\" class=\"dataframe\">\n",
       "  <thead>\n",
       "    <tr style=\"text-align: right;\">\n",
       "      <th></th>\n",
       "      <th>university_name</th>\n",
       "      <th>world_rank_cwur</th>\n",
       "      <th>times_average</th>\n",
       "      <th>shangai_average</th>\n",
       "      <th>max_diff</th>\n",
       "    </tr>\n",
       "  </thead>\n",
       "  <tbody>\n",
       "    <tr>\n",
       "      <th>0</th>\n",
       "      <td>aalborg university</td>\n",
       "      <td>565.0</td>\n",
       "      <td>226.0</td>\n",
       "      <td>350.0</td>\n",
       "      <td>339.0</td>\n",
       "    </tr>\n",
       "    <tr>\n",
       "      <th>1</th>\n",
       "      <td>aalto university</td>\n",
       "      <td>421.0</td>\n",
       "      <td>276.0</td>\n",
       "      <td>450.0</td>\n",
       "      <td>174.0</td>\n",
       "    </tr>\n",
       "    <tr>\n",
       "      <th>2</th>\n",
       "      <td>aarhus university</td>\n",
       "      <td>122.0</td>\n",
       "      <td>106.0</td>\n",
       "      <td>73.0</td>\n",
       "      <td>49.0</td>\n",
       "    </tr>\n",
       "    <tr>\n",
       "      <th>3</th>\n",
       "      <td>aberystwyth university</td>\n",
       "      <td>814.0</td>\n",
       "      <td>326.0</td>\n",
       "      <td>NaN</td>\n",
       "      <td>488.0</td>\n",
       "    </tr>\n",
       "    <tr>\n",
       "      <th>4</th>\n",
       "      <td>adam mickiewicz university</td>\n",
       "      <td>NaN</td>\n",
       "      <td>700.0</td>\n",
       "      <td>NaN</td>\n",
       "      <td>NaN</td>\n",
       "    </tr>\n",
       "    <tr>\n",
       "      <th>5</th>\n",
       "      <td>agh university of science and technology</td>\n",
       "      <td>782.0</td>\n",
       "      <td>700.0</td>\n",
       "      <td>NaN</td>\n",
       "      <td>82.0</td>\n",
       "    </tr>\n",
       "    <tr>\n",
       "      <th>6</th>\n",
       "      <td>aix-marseille university</td>\n",
       "      <td>206.0</td>\n",
       "      <td>276.0</td>\n",
       "      <td>126.0</td>\n",
       "      <td>150.0</td>\n",
       "    </tr>\n",
       "    <tr>\n",
       "      <th>7</th>\n",
       "      <td>ajou university</td>\n",
       "      <td>433.0</td>\n",
       "      <td>700.0</td>\n",
       "      <td>NaN</td>\n",
       "      <td>267.0</td>\n",
       "    </tr>\n",
       "    <tr>\n",
       "      <th>8</th>\n",
       "      <td>alexandria university</td>\n",
       "      <td>997.0</td>\n",
       "      <td>700.0</td>\n",
       "      <td>NaN</td>\n",
       "      <td>297.0</td>\n",
       "    </tr>\n",
       "    <tr>\n",
       "      <th>9</th>\n",
       "      <td>alexandru ioan cuza university</td>\n",
       "      <td>NaN</td>\n",
       "      <td>700.0</td>\n",
       "      <td>NaN</td>\n",
       "      <td>NaN</td>\n",
       "    </tr>\n",
       "    <tr>\n",
       "      <th>10</th>\n",
       "      <td>aligarh muslim university</td>\n",
       "      <td>NaN</td>\n",
       "      <td>700.0</td>\n",
       "      <td>NaN</td>\n",
       "      <td>NaN</td>\n",
       "    </tr>\n",
       "    <tr>\n",
       "      <th>11</th>\n",
       "      <td>american university</td>\n",
       "      <td>NaN</td>\n",
       "      <td>450.0</td>\n",
       "      <td>NaN</td>\n",
       "      <td>NaN</td>\n",
       "    </tr>\n",
       "    <tr>\n",
       "      <th>12</th>\n",
       "      <td>american university of beirut</td>\n",
       "      <td>682.0</td>\n",
       "      <td>550.0</td>\n",
       "      <td>NaN</td>\n",
       "      <td>132.0</td>\n",
       "    </tr>\n",
       "    <tr>\n",
       "      <th>13</th>\n",
       "      <td>american university of sharjah</td>\n",
       "      <td>NaN</td>\n",
       "      <td>700.0</td>\n",
       "      <td>NaN</td>\n",
       "      <td>NaN</td>\n",
       "    </tr>\n",
       "    <tr>\n",
       "      <th>14</th>\n",
       "      <td>amirkabir university of technology</td>\n",
       "      <td>958.0</td>\n",
       "      <td>550.0</td>\n",
       "      <td>NaN</td>\n",
       "      <td>408.0</td>\n",
       "    </tr>\n",
       "    <tr>\n",
       "      <th>15</th>\n",
       "      <td>amrita university</td>\n",
       "      <td>NaN</td>\n",
       "      <td>700.0</td>\n",
       "      <td>NaN</td>\n",
       "      <td>NaN</td>\n",
       "    </tr>\n",
       "    <tr>\n",
       "      <th>16</th>\n",
       "      <td>anadolu university</td>\n",
       "      <td>NaN</td>\n",
       "      <td>700.0</td>\n",
       "      <td>NaN</td>\n",
       "      <td>NaN</td>\n",
       "    </tr>\n",
       "    <tr>\n",
       "      <th>17</th>\n",
       "      <td>andhra university</td>\n",
       "      <td>NaN</td>\n",
       "      <td>700.0</td>\n",
       "      <td>NaN</td>\n",
       "      <td>NaN</td>\n",
       "    </tr>\n",
       "    <tr>\n",
       "      <th>18</th>\n",
       "      <td>aristotle university of thessaloniki</td>\n",
       "      <td>459.0</td>\n",
       "      <td>700.0</td>\n",
       "      <td>450.0</td>\n",
       "      <td>250.0</td>\n",
       "    </tr>\n",
       "    <tr>\n",
       "      <th>19</th>\n",
       "      <td>arizona state university</td>\n",
       "      <td>97.0</td>\n",
       "      <td>189.0</td>\n",
       "      <td>93.0</td>\n",
       "      <td>96.0</td>\n",
       "    </tr>\n",
       "    <tr>\n",
       "      <th>20</th>\n",
       "      <td>asia university, taiwan</td>\n",
       "      <td>NaN</td>\n",
       "      <td>700.0</td>\n",
       "      <td>NaN</td>\n",
       "      <td>NaN</td>\n",
       "    </tr>\n",
       "    <tr>\n",
       "      <th>21</th>\n",
       "      <td>aston university</td>\n",
       "      <td>720.0</td>\n",
       "      <td>450.0</td>\n",
       "      <td>NaN</td>\n",
       "      <td>270.0</td>\n",
       "    </tr>\n",
       "    <tr>\n",
       "      <th>22</th>\n",
       "      <td>athens university of economics and business</td>\n",
       "      <td>NaN</td>\n",
       "      <td>700.0</td>\n",
       "      <td>NaN</td>\n",
       "      <td>NaN</td>\n",
       "    </tr>\n",
       "    <tr>\n",
       "      <th>23</th>\n",
       "      <td>auburn university</td>\n",
       "      <td>549.0</td>\n",
       "      <td>550.0</td>\n",
       "      <td>450.0</td>\n",
       "      <td>100.0</td>\n",
       "    </tr>\n",
       "    <tr>\n",
       "      <th>24</th>\n",
       "      <td>auckland university of technology</td>\n",
       "      <td>NaN</td>\n",
       "      <td>700.0</td>\n",
       "      <td>NaN</td>\n",
       "      <td>NaN</td>\n",
       "    </tr>\n",
       "    <tr>\n",
       "      <th>25</th>\n",
       "      <td>austral university of chile</td>\n",
       "      <td>NaN</td>\n",
       "      <td>700.0</td>\n",
       "      <td>NaN</td>\n",
       "      <td>NaN</td>\n",
       "    </tr>\n",
       "    <tr>\n",
       "      <th>26</th>\n",
       "      <td>australian national university</td>\n",
       "      <td>179.0</td>\n",
       "      <td>52.0</td>\n",
       "      <td>77.0</td>\n",
       "      <td>127.0</td>\n",
       "    </tr>\n",
       "    <tr>\n",
       "      <th>27</th>\n",
       "      <td>autonomous university of barcelona</td>\n",
       "      <td>241.0</td>\n",
       "      <td>146.0</td>\n",
       "      <td>250.0</td>\n",
       "      <td>104.0</td>\n",
       "    </tr>\n",
       "    <tr>\n",
       "      <th>28</th>\n",
       "      <td>autonomous university of madrid</td>\n",
       "      <td>304.0</td>\n",
       "      <td>326.0</td>\n",
       "      <td>250.0</td>\n",
       "      <td>76.0</td>\n",
       "    </tr>\n",
       "    <tr>\n",
       "      <th>29</th>\n",
       "      <td>babeş-bolyai university</td>\n",
       "      <td>987.0</td>\n",
       "      <td>550.0</td>\n",
       "      <td>NaN</td>\n",
       "      <td>437.0</td>\n",
       "    </tr>\n",
       "  </tbody>\n",
       "</table>\n",
       "</div>"
      ],
      "text/plain": [
       "                                university_name  world_rank_cwur  \\\n",
       "0                            aalborg university            565.0   \n",
       "1                              aalto university            421.0   \n",
       "2                             aarhus university            122.0   \n",
       "3                        aberystwyth university            814.0   \n",
       "4                    adam mickiewicz university              NaN   \n",
       "5      agh university of science and technology            782.0   \n",
       "6                      aix-marseille university            206.0   \n",
       "7                               ajou university            433.0   \n",
       "8                         alexandria university            997.0   \n",
       "9                alexandru ioan cuza university              NaN   \n",
       "10                    aligarh muslim university              NaN   \n",
       "11                          american university              NaN   \n",
       "12                american university of beirut            682.0   \n",
       "13               american university of sharjah              NaN   \n",
       "14           amirkabir university of technology            958.0   \n",
       "15                            amrita university              NaN   \n",
       "16                           anadolu university              NaN   \n",
       "17                            andhra university              NaN   \n",
       "18         aristotle university of thessaloniki            459.0   \n",
       "19                     arizona state university             97.0   \n",
       "20                      asia university, taiwan              NaN   \n",
       "21                             aston university            720.0   \n",
       "22  athens university of economics and business              NaN   \n",
       "23                            auburn university            549.0   \n",
       "24            auckland university of technology              NaN   \n",
       "25                  austral university of chile              NaN   \n",
       "26               australian national university            179.0   \n",
       "27           autonomous university of barcelona            241.0   \n",
       "28              autonomous university of madrid            304.0   \n",
       "29                      babeş-bolyai university            987.0   \n",
       "\n",
       "    times_average  shangai_average  max_diff  \n",
       "0           226.0            350.0     339.0  \n",
       "1           276.0            450.0     174.0  \n",
       "2           106.0             73.0      49.0  \n",
       "3           326.0              NaN     488.0  \n",
       "4           700.0              NaN       NaN  \n",
       "5           700.0              NaN      82.0  \n",
       "6           276.0            126.0     150.0  \n",
       "7           700.0              NaN     267.0  \n",
       "8           700.0              NaN     297.0  \n",
       "9           700.0              NaN       NaN  \n",
       "10          700.0              NaN       NaN  \n",
       "11          450.0              NaN       NaN  \n",
       "12          550.0              NaN     132.0  \n",
       "13          700.0              NaN       NaN  \n",
       "14          550.0              NaN     408.0  \n",
       "15          700.0              NaN       NaN  \n",
       "16          700.0              NaN       NaN  \n",
       "17          700.0              NaN       NaN  \n",
       "18          700.0            450.0     250.0  \n",
       "19          189.0             93.0      96.0  \n",
       "20          700.0              NaN       NaN  \n",
       "21          450.0              NaN     270.0  \n",
       "22          700.0              NaN       NaN  \n",
       "23          550.0            450.0     100.0  \n",
       "24          700.0              NaN       NaN  \n",
       "25          700.0              NaN       NaN  \n",
       "26           52.0             77.0     127.0  \n",
       "27          146.0            250.0     104.0  \n",
       "28          326.0            250.0      76.0  \n",
       "29          550.0              NaN     437.0  "
      ]
     },
     "execution_count": 47,
     "metadata": {},
     "output_type": "execute_result"
    }
   ],
   "source": [
    "all_rankings.drop(['times_upper', 'times_lower', 'shangai_upper', 'shangai_lower'], axis = 1).head(30)"
   ]
  },
  {
   "cell_type": "markdown",
   "metadata": {},
   "source": [
    "# 5. Consider only the most recent data point of the times dataset. Compute the number of male and female students for each country.\n",
    "\n"
   ]
  },
  {
   "cell_type": "markdown",
   "metadata": {},
   "source": [
    "Si estraggono i numeri di maschi e femmine in ogni università, servendosi dei due attributi *num_students* e *female_ratio*. \\\n",
    "Si osserva che entrambi gli attributi presentano dei valori mancanti.\\\n",
    "Si decide di escludere le università per cui non è noto il numero di studenti, poichè questo è altamente variabile tra le università di uno stesso paese.\n",
    "Diversamente si decide, per il *female_ratio*, di attribuire ai valori mancanti il valore medio del paese."
   ]
  },
  {
   "cell_type": "code",
   "execution_count": 48,
   "metadata": {
    "scrolled": true
   },
   "outputs": [],
   "source": [
    "mean_std = times_most_recent.loc[times_most_recent.num_students.notnull()].groupby('country').agg({'num_students' : ['mean', 'std'], 'female_ratio' : ['mean', 'std']})"
   ]
  },
  {
   "cell_type": "code",
   "execution_count": 49,
   "metadata": {},
   "outputs": [
    {
     "data": {
      "text/html": [
       "<div>\n",
       "<style scoped>\n",
       "    .dataframe tbody tr th:only-of-type {\n",
       "        vertical-align: middle;\n",
       "    }\n",
       "\n",
       "    .dataframe tbody tr th {\n",
       "        vertical-align: top;\n",
       "    }\n",
       "\n",
       "    .dataframe thead tr th {\n",
       "        text-align: left;\n",
       "    }\n",
       "\n",
       "    .dataframe thead tr:last-of-type th {\n",
       "        text-align: right;\n",
       "    }\n",
       "</style>\n",
       "<table border=\"1\" class=\"dataframe\">\n",
       "  <thead>\n",
       "    <tr>\n",
       "      <th></th>\n",
       "      <th colspan=\"2\" halign=\"left\">num_students</th>\n",
       "      <th colspan=\"2\" halign=\"left\">female_ratio</th>\n",
       "    </tr>\n",
       "    <tr>\n",
       "      <th></th>\n",
       "      <th>mean</th>\n",
       "      <th>std</th>\n",
       "      <th>mean</th>\n",
       "      <th>std</th>\n",
       "    </tr>\n",
       "    <tr>\n",
       "      <th>country</th>\n",
       "      <th></th>\n",
       "      <th></th>\n",
       "      <th></th>\n",
       "      <th></th>\n",
       "    </tr>\n",
       "  </thead>\n",
       "  <tbody>\n",
       "    <tr>\n",
       "      <th>argentina</th>\n",
       "      <td>108373.000000</td>\n",
       "      <td>NaN</td>\n",
       "      <td>0.620000</td>\n",
       "      <td>NaN</td>\n",
       "    </tr>\n",
       "    <tr>\n",
       "      <th>australia</th>\n",
       "      <td>23987.967742</td>\n",
       "      <td>10759.248532</td>\n",
       "      <td>0.557333</td>\n",
       "      <td>0.056686</td>\n",
       "    </tr>\n",
       "    <tr>\n",
       "      <th>austria</th>\n",
       "      <td>19211.000000</td>\n",
       "      <td>9733.781451</td>\n",
       "      <td>0.475714</td>\n",
       "      <td>0.173480</td>\n",
       "    </tr>\n",
       "    <tr>\n",
       "      <th>bangladesh</th>\n",
       "      <td>62716.000000</td>\n",
       "      <td>NaN</td>\n",
       "      <td>0.340000</td>\n",
       "      <td>NaN</td>\n",
       "    </tr>\n",
       "    <tr>\n",
       "      <th>belarus</th>\n",
       "      <td>29303.000000</td>\n",
       "      <td>NaN</td>\n",
       "      <td>0.690000</td>\n",
       "      <td>NaN</td>\n",
       "    </tr>\n",
       "    <tr>\n",
       "      <th>belgium</th>\n",
       "      <td>24237.285714</td>\n",
       "      <td>11559.818680</td>\n",
       "      <td>0.548571</td>\n",
       "      <td>0.012150</td>\n",
       "    </tr>\n",
       "    <tr>\n",
       "      <th>brazil</th>\n",
       "      <td>31452.235294</td>\n",
       "      <td>19370.534064</td>\n",
       "      <td>0.482000</td>\n",
       "      <td>0.142638</td>\n",
       "    </tr>\n",
       "    <tr>\n",
       "      <th>canada</th>\n",
       "      <td>28682.160000</td>\n",
       "      <td>12483.292497</td>\n",
       "      <td>0.553913</td>\n",
       "      <td>0.040981</td>\n",
       "    </tr>\n",
       "    <tr>\n",
       "      <th>chile</th>\n",
       "      <td>19337.666667</td>\n",
       "      <td>7277.932280</td>\n",
       "      <td>0.404000</td>\n",
       "      <td>0.097365</td>\n",
       "    </tr>\n",
       "    <tr>\n",
       "      <th>china</th>\n",
       "      <td>34746.459459</td>\n",
       "      <td>13523.263498</td>\n",
       "      <td>0.426071</td>\n",
       "      <td>0.133093</td>\n",
       "    </tr>\n",
       "    <tr>\n",
       "      <th>colombia</th>\n",
       "      <td>27322.500000</td>\n",
       "      <td>16333.459539</td>\n",
       "      <td>0.470000</td>\n",
       "      <td>0.042426</td>\n",
       "    </tr>\n",
       "    <tr>\n",
       "      <th>cyprus</th>\n",
       "      <td>6880.000000</td>\n",
       "      <td>NaN</td>\n",
       "      <td>0.690000</td>\n",
       "      <td>NaN</td>\n",
       "    </tr>\n",
       "    <tr>\n",
       "      <th>czech republic</th>\n",
       "      <td>22591.222222</td>\n",
       "      <td>14803.921928</td>\n",
       "      <td>0.538571</td>\n",
       "      <td>0.138013</td>\n",
       "    </tr>\n",
       "    <tr>\n",
       "      <th>denmark</th>\n",
       "      <td>19892.500000</td>\n",
       "      <td>6110.202051</td>\n",
       "      <td>0.493333</td>\n",
       "      <td>0.129872</td>\n",
       "    </tr>\n",
       "    <tr>\n",
       "      <th>egypt</th>\n",
       "      <td>125396.333333</td>\n",
       "      <td>107576.432109</td>\n",
       "      <td>0.526667</td>\n",
       "      <td>0.106927</td>\n",
       "    </tr>\n",
       "  </tbody>\n",
       "</table>\n",
       "</div>"
      ],
      "text/plain": [
       "                 num_students                female_ratio          \n",
       "                         mean            std         mean       std\n",
       "country                                                            \n",
       "argentina       108373.000000            NaN     0.620000       NaN\n",
       "australia        23987.967742   10759.248532     0.557333  0.056686\n",
       "austria          19211.000000    9733.781451     0.475714  0.173480\n",
       "bangladesh       62716.000000            NaN     0.340000       NaN\n",
       "belarus          29303.000000            NaN     0.690000       NaN\n",
       "belgium          24237.285714   11559.818680     0.548571  0.012150\n",
       "brazil           31452.235294   19370.534064     0.482000  0.142638\n",
       "canada           28682.160000   12483.292497     0.553913  0.040981\n",
       "chile            19337.666667    7277.932280     0.404000  0.097365\n",
       "china            34746.459459   13523.263498     0.426071  0.133093\n",
       "colombia         27322.500000   16333.459539     0.470000  0.042426\n",
       "cyprus            6880.000000            NaN     0.690000       NaN\n",
       "czech republic   22591.222222   14803.921928     0.538571  0.138013\n",
       "denmark          19892.500000    6110.202051     0.493333  0.129872\n",
       "egypt           125396.333333  107576.432109     0.526667  0.106927"
      ]
     },
     "execution_count": 49,
     "metadata": {},
     "output_type": "execute_result"
    }
   ],
   "source": [
    "mean_std.head(15)"
   ]
  },
  {
   "cell_type": "code",
   "execution_count": 50,
   "metadata": {},
   "outputs": [
    {
     "data": {
      "text/html": [
       "<div>\n",
       "<style scoped>\n",
       "    .dataframe tbody tr th:only-of-type {\n",
       "        vertical-align: middle;\n",
       "    }\n",
       "\n",
       "    .dataframe tbody tr th {\n",
       "        vertical-align: top;\n",
       "    }\n",
       "\n",
       "    .dataframe thead tr th {\n",
       "        text-align: left;\n",
       "    }\n",
       "\n",
       "    .dataframe thead tr:last-of-type th {\n",
       "        text-align: right;\n",
       "    }\n",
       "</style>\n",
       "<table border=\"1\" class=\"dataframe\">\n",
       "  <thead>\n",
       "    <tr>\n",
       "      <th></th>\n",
       "      <th colspan=\"2\" halign=\"left\">num_students</th>\n",
       "      <th colspan=\"2\" halign=\"left\">female_ratio</th>\n",
       "      <th>num_stud_coef_of_variation</th>\n",
       "      <th>female_ratio_coef_of_variation</th>\n",
       "    </tr>\n",
       "    <tr>\n",
       "      <th></th>\n",
       "      <th>mean</th>\n",
       "      <th>std</th>\n",
       "      <th>mean</th>\n",
       "      <th>std</th>\n",
       "      <th></th>\n",
       "      <th></th>\n",
       "    </tr>\n",
       "    <tr>\n",
       "      <th>country</th>\n",
       "      <th></th>\n",
       "      <th></th>\n",
       "      <th></th>\n",
       "      <th></th>\n",
       "      <th></th>\n",
       "      <th></th>\n",
       "    </tr>\n",
       "  </thead>\n",
       "  <tbody>\n",
       "    <tr>\n",
       "      <th>argentina</th>\n",
       "      <td>108373.000000</td>\n",
       "      <td>NaN</td>\n",
       "      <td>0.620000</td>\n",
       "      <td>NaN</td>\n",
       "      <td>NaN</td>\n",
       "      <td>NaN</td>\n",
       "    </tr>\n",
       "    <tr>\n",
       "      <th>australia</th>\n",
       "      <td>23987.967742</td>\n",
       "      <td>10759.248532</td>\n",
       "      <td>0.557333</td>\n",
       "      <td>0.056686</td>\n",
       "      <td>0.448527</td>\n",
       "      <td>0.101710</td>\n",
       "    </tr>\n",
       "    <tr>\n",
       "      <th>austria</th>\n",
       "      <td>19211.000000</td>\n",
       "      <td>9733.781451</td>\n",
       "      <td>0.475714</td>\n",
       "      <td>0.173480</td>\n",
       "      <td>0.506677</td>\n",
       "      <td>0.364672</td>\n",
       "    </tr>\n",
       "    <tr>\n",
       "      <th>bangladesh</th>\n",
       "      <td>62716.000000</td>\n",
       "      <td>NaN</td>\n",
       "      <td>0.340000</td>\n",
       "      <td>NaN</td>\n",
       "      <td>NaN</td>\n",
       "      <td>NaN</td>\n",
       "    </tr>\n",
       "    <tr>\n",
       "      <th>belarus</th>\n",
       "      <td>29303.000000</td>\n",
       "      <td>NaN</td>\n",
       "      <td>0.690000</td>\n",
       "      <td>NaN</td>\n",
       "      <td>NaN</td>\n",
       "      <td>NaN</td>\n",
       "    </tr>\n",
       "    <tr>\n",
       "      <th>belgium</th>\n",
       "      <td>24237.285714</td>\n",
       "      <td>11559.818680</td>\n",
       "      <td>0.548571</td>\n",
       "      <td>0.012150</td>\n",
       "      <td>0.476944</td>\n",
       "      <td>0.022148</td>\n",
       "    </tr>\n",
       "    <tr>\n",
       "      <th>brazil</th>\n",
       "      <td>31452.235294</td>\n",
       "      <td>19370.534064</td>\n",
       "      <td>0.482000</td>\n",
       "      <td>0.142638</td>\n",
       "      <td>0.615871</td>\n",
       "      <td>0.295930</td>\n",
       "    </tr>\n",
       "    <tr>\n",
       "      <th>canada</th>\n",
       "      <td>28682.160000</td>\n",
       "      <td>12483.292497</td>\n",
       "      <td>0.553913</td>\n",
       "      <td>0.040981</td>\n",
       "      <td>0.435228</td>\n",
       "      <td>0.073985</td>\n",
       "    </tr>\n",
       "    <tr>\n",
       "      <th>chile</th>\n",
       "      <td>19337.666667</td>\n",
       "      <td>7277.932280</td>\n",
       "      <td>0.404000</td>\n",
       "      <td>0.097365</td>\n",
       "      <td>0.376360</td>\n",
       "      <td>0.241003</td>\n",
       "    </tr>\n",
       "    <tr>\n",
       "      <th>china</th>\n",
       "      <td>34746.459459</td>\n",
       "      <td>13523.263498</td>\n",
       "      <td>0.426071</td>\n",
       "      <td>0.133093</td>\n",
       "      <td>0.389198</td>\n",
       "      <td>0.312371</td>\n",
       "    </tr>\n",
       "  </tbody>\n",
       "</table>\n",
       "</div>"
      ],
      "text/plain": [
       "             num_students               female_ratio            \\\n",
       "                     mean           std         mean       std   \n",
       "country                                                          \n",
       "argentina   108373.000000           NaN     0.620000       NaN   \n",
       "australia    23987.967742  10759.248532     0.557333  0.056686   \n",
       "austria      19211.000000   9733.781451     0.475714  0.173480   \n",
       "bangladesh   62716.000000           NaN     0.340000       NaN   \n",
       "belarus      29303.000000           NaN     0.690000       NaN   \n",
       "belgium      24237.285714  11559.818680     0.548571  0.012150   \n",
       "brazil       31452.235294  19370.534064     0.482000  0.142638   \n",
       "canada       28682.160000  12483.292497     0.553913  0.040981   \n",
       "chile        19337.666667   7277.932280     0.404000  0.097365   \n",
       "china        34746.459459  13523.263498     0.426071  0.133093   \n",
       "\n",
       "           num_stud_coef_of_variation female_ratio_coef_of_variation  \n",
       "                                                                      \n",
       "country                                                               \n",
       "argentina                         NaN                            NaN  \n",
       "australia                    0.448527                       0.101710  \n",
       "austria                      0.506677                       0.364672  \n",
       "bangladesh                        NaN                            NaN  \n",
       "belarus                           NaN                            NaN  \n",
       "belgium                      0.476944                       0.022148  \n",
       "brazil                       0.615871                       0.295930  \n",
       "canada                       0.435228                       0.073985  \n",
       "chile                        0.376360                       0.241003  \n",
       "china                        0.389198                       0.312371  "
      ]
     },
     "execution_count": 50,
     "metadata": {},
     "output_type": "execute_result"
    }
   ],
   "source": [
    "mean_std['num_stud_coef_of_variation'] = mean_std['num_students']['std'] / mean_std['num_students']['mean']\n",
    "mean_std['female_ratio_coef_of_variation'] = mean_std['female_ratio']['std'] / mean_std['female_ratio']['mean']\n",
    "\n",
    "mean_std.head(10)"
   ]
  },
  {
   "cell_type": "markdown",
   "metadata": {},
   "source": [
    "Oltre a calcolare la deviazione standard si decide di effettuare un confronto tra la media e la sd al fine di depurare il dato dall'ordine di grandezza. Osservando quindi il nuovo parametro *coefficient of variation* si nota come questo sia alto nel caso di *num_students*, per questo si ritiene inappropriato sostituire la media per *country* di *num_students* in tutti quei casi in cui tale variabile presenta un valore mancante. Ciò non si verifica per la variabile *female_ratio*, quindi si decide di sostituire la media del paese di appartenenza se l'università presenta un valore nullo per tale variabile."
   ]
  },
  {
   "cell_type": "code",
   "execution_count": 51,
   "metadata": {},
   "outputs": [],
   "source": [
    "times_female_no_miss = times_most_recent.loc[times_most_recent.female_ratio.notnull()].copy()"
   ]
  },
  {
   "cell_type": "code",
   "execution_count": 52,
   "metadata": {},
   "outputs": [
    {
     "data": {
      "text/plain": [
       "country\n",
       "argentina     0.620000\n",
       "australia     0.557333\n",
       "austria       0.475714\n",
       "bangladesh    0.340000\n",
       "belarus       0.690000\n",
       "Name: female_ratio, dtype: float64"
      ]
     },
     "execution_count": 52,
     "metadata": {},
     "output_type": "execute_result"
    }
   ],
   "source": [
    "female_means = times_female_no_miss.groupby('country').female_ratio.mean()\n",
    "female_means.head(5)"
   ]
  },
  {
   "cell_type": "code",
   "execution_count": 53,
   "metadata": {},
   "outputs": [],
   "source": [
    "def female_mean_extender(row):\n",
    "    if np.isnan(row['female_ratio']):\n",
    "        row['female_ratio'] = female_means[row['country']]\n",
    "    return row"
   ]
  },
  {
   "cell_type": "code",
   "execution_count": 54,
   "metadata": {
    "scrolled": true
   },
   "outputs": [],
   "source": [
    "times_most_recent = times_most_recent.apply(female_mean_extender, axis = 1)"
   ]
  },
  {
   "cell_type": "markdown",
   "metadata": {},
   "source": [
    "Si controlla se effettivamente non sono più presenti università con valore mancante per il *female_ratio*."
   ]
  },
  {
   "cell_type": "code",
   "execution_count": 55,
   "metadata": {},
   "outputs": [
    {
     "data": {
      "text/html": [
       "<div>\n",
       "<style scoped>\n",
       "    .dataframe tbody tr th:only-of-type {\n",
       "        vertical-align: middle;\n",
       "    }\n",
       "\n",
       "    .dataframe tbody tr th {\n",
       "        vertical-align: top;\n",
       "    }\n",
       "\n",
       "    .dataframe thead th {\n",
       "        text-align: right;\n",
       "    }\n",
       "</style>\n",
       "<table border=\"1\" class=\"dataframe\">\n",
       "  <thead>\n",
       "    <tr style=\"text-align: right;\">\n",
       "      <th></th>\n",
       "      <th>index</th>\n",
       "      <th>world_rank</th>\n",
       "      <th>university_name</th>\n",
       "      <th>country</th>\n",
       "      <th>teaching</th>\n",
       "      <th>international</th>\n",
       "      <th>research</th>\n",
       "      <th>citations</th>\n",
       "      <th>income</th>\n",
       "      <th>total_score</th>\n",
       "      <th>num_students</th>\n",
       "      <th>student_staff_ratio</th>\n",
       "      <th>international_students</th>\n",
       "      <th>female_ratio</th>\n",
       "      <th>year</th>\n",
       "    </tr>\n",
       "  </thead>\n",
       "  <tbody>\n",
       "  </tbody>\n",
       "</table>\n",
       "</div>"
      ],
      "text/plain": [
       "Empty DataFrame\n",
       "Columns: [index, world_rank, university_name, country, teaching, international, research, citations, income, total_score, num_students, student_staff_ratio, international_students, female_ratio, year]\n",
       "Index: []"
      ]
     },
     "execution_count": 55,
     "metadata": {},
     "output_type": "execute_result"
    }
   ],
   "source": [
    "times_most_recent.loc[times_most_recent.female_ratio.isnull()]"
   ]
  },
  {
   "cell_type": "markdown",
   "metadata": {},
   "source": [
    "Questo ci suggerisce anche che non erano presenti paesi con tutte le università con un valore nullo per *female_ratio*."
   ]
  },
  {
   "cell_type": "markdown",
   "metadata": {},
   "source": [
    "Si procede ora a calcolare il numero di studenti maschi e femmine per ogni università."
   ]
  },
  {
   "cell_type": "code",
   "execution_count": 56,
   "metadata": {},
   "outputs": [],
   "source": [
    "times_most_recent['female_num'] = round(times_most_recent['num_students'] * (times_most_recent['female_ratio']))\n",
    "times_most_recent['male_num'] = times_most_recent['num_students'] - times_most_recent['female_num']"
   ]
  },
  {
   "cell_type": "markdown",
   "metadata": {},
   "source": [
    "Si procede ora ad aggregare per ogni paese."
   ]
  },
  {
   "cell_type": "code",
   "execution_count": 57,
   "metadata": {},
   "outputs": [
    {
     "data": {
      "text/html": [
       "<div>\n",
       "<style scoped>\n",
       "    .dataframe tbody tr th:only-of-type {\n",
       "        vertical-align: middle;\n",
       "    }\n",
       "\n",
       "    .dataframe tbody tr th {\n",
       "        vertical-align: top;\n",
       "    }\n",
       "\n",
       "    .dataframe thead th {\n",
       "        text-align: right;\n",
       "    }\n",
       "</style>\n",
       "<table border=\"1\" class=\"dataframe\">\n",
       "  <thead>\n",
       "    <tr style=\"text-align: right;\">\n",
       "      <th></th>\n",
       "      <th>country</th>\n",
       "      <th>female_num</th>\n",
       "      <th>male_num</th>\n",
       "    </tr>\n",
       "  </thead>\n",
       "  <tbody>\n",
       "    <tr>\n",
       "      <th>0</th>\n",
       "      <td>argentina</td>\n",
       "      <td>67191.0</td>\n",
       "      <td>41182.0</td>\n",
       "    </tr>\n",
       "    <tr>\n",
       "      <th>1</th>\n",
       "      <td>australia</td>\n",
       "      <td>408596.0</td>\n",
       "      <td>335031.0</td>\n",
       "    </tr>\n",
       "    <tr>\n",
       "      <th>2</th>\n",
       "      <td>austria</td>\n",
       "      <td>68364.0</td>\n",
       "      <td>66113.0</td>\n",
       "    </tr>\n",
       "    <tr>\n",
       "      <th>3</th>\n",
       "      <td>bangladesh</td>\n",
       "      <td>21323.0</td>\n",
       "      <td>41393.0</td>\n",
       "    </tr>\n",
       "    <tr>\n",
       "      <th>4</th>\n",
       "      <td>belarus</td>\n",
       "      <td>20219.0</td>\n",
       "      <td>9084.0</td>\n",
       "    </tr>\n",
       "  </tbody>\n",
       "</table>\n",
       "</div>"
      ],
      "text/plain": [
       "      country  female_num  male_num\n",
       "0   argentina     67191.0   41182.0\n",
       "1   australia    408596.0  335031.0\n",
       "2     austria     68364.0   66113.0\n",
       "3  bangladesh     21323.0   41393.0\n",
       "4     belarus     20219.0    9084.0"
      ]
     },
     "execution_count": 57,
     "metadata": {},
     "output_type": "execute_result"
    }
   ],
   "source": [
    "fem_mal_country=times_most_recent.groupby('country')[['female_num', 'male_num']].sum().reset_index()\n",
    "fem_mal_country.head(5)"
   ]
  },
  {
   "cell_type": "markdown",
   "metadata": {},
   "source": [
    "# 6. Find the universities where the ratio between female and male is below the average ratio (computed over all universities)\n",
    "\n"
   ]
  },
  {
   "cell_type": "markdown",
   "metadata": {},
   "source": [
    "Si calcola il valore del rapporto *female_ratio* / *male_ratio*. \\\n",
    "Si nota la presenza di una università con sole femmine, per la quale il rapporto *female_ratio* / *male_ratio* vale infinito, si decide di non considerare questa università nel computo del rapporto medio di *female_ratio* / *male_ratio*."
   ]
  },
  {
   "cell_type": "code",
   "execution_count": 58,
   "metadata": {
    "scrolled": true
   },
   "outputs": [],
   "source": [
    "times_most_recent['fm_ratio']=((times_most_recent['female_ratio'])/(1 - times_most_recent['female_ratio']))"
   ]
  },
  {
   "cell_type": "markdown",
   "metadata": {},
   "source": [
    "Se ne calcola il valore medio, escludendo l'università in cui non sono presenti maschi."
   ]
  },
  {
   "cell_type": "code",
   "execution_count": 59,
   "metadata": {},
   "outputs": [
    {
     "data": {
      "text/plain": [
       "1.067949202064973"
      ]
     },
     "execution_count": 59,
     "metadata": {},
     "output_type": "execute_result"
    }
   ],
   "source": [
    "meanfmratio=times_most_recent.loc[times_most_recent['male_num']!=0]['fm_ratio'].mean()\n",
    "meanfmratio"
   ]
  },
  {
   "cell_type": "markdown",
   "metadata": {},
   "source": [
    "Si estraggono le università dove il valore del *fm_ratio* è sotto la media."
   ]
  },
  {
   "cell_type": "code",
   "execution_count": 60,
   "metadata": {},
   "outputs": [
    {
     "data": {
      "text/html": [
       "<div>\n",
       "<style scoped>\n",
       "    .dataframe tbody tr th:only-of-type {\n",
       "        vertical-align: middle;\n",
       "    }\n",
       "\n",
       "    .dataframe tbody tr th {\n",
       "        vertical-align: top;\n",
       "    }\n",
       "\n",
       "    .dataframe thead th {\n",
       "        text-align: right;\n",
       "    }\n",
       "</style>\n",
       "<table border=\"1\" class=\"dataframe\">\n",
       "  <thead>\n",
       "    <tr style=\"text-align: right;\">\n",
       "      <th></th>\n",
       "      <th>level_0</th>\n",
       "      <th>index</th>\n",
       "      <th>world_rank</th>\n",
       "      <th>university_name</th>\n",
       "      <th>country</th>\n",
       "      <th>teaching</th>\n",
       "      <th>international</th>\n",
       "      <th>research</th>\n",
       "      <th>citations</th>\n",
       "      <th>income</th>\n",
       "      <th>total_score</th>\n",
       "      <th>num_students</th>\n",
       "      <th>student_staff_ratio</th>\n",
       "      <th>international_students</th>\n",
       "      <th>female_ratio</th>\n",
       "      <th>year</th>\n",
       "      <th>female_num</th>\n",
       "      <th>male_num</th>\n",
       "      <th>fm_ratio</th>\n",
       "    </tr>\n",
       "  </thead>\n",
       "  <tbody>\n",
       "    <tr>\n",
       "      <th>0</th>\n",
       "      <td>1999</td>\n",
       "      <td>2003</td>\n",
       "      <td>201-250</td>\n",
       "      <td>aalborg university</td>\n",
       "      <td>denmark</td>\n",
       "      <td>25.1</td>\n",
       "      <td>71.0</td>\n",
       "      <td>28.4</td>\n",
       "      <td>73.8</td>\n",
       "      <td>43.7</td>\n",
       "      <td>NaN</td>\n",
       "      <td>17422.0</td>\n",
       "      <td>15.9</td>\n",
       "      <td>0.15</td>\n",
       "      <td>0.48</td>\n",
       "      <td>2016</td>\n",
       "      <td>8363.0</td>\n",
       "      <td>9059.0</td>\n",
       "      <td>0.923077</td>\n",
       "    </tr>\n",
       "    <tr>\n",
       "      <th>1</th>\n",
       "      <td>2052</td>\n",
       "      <td>2056</td>\n",
       "      <td>251-300</td>\n",
       "      <td>aalto university</td>\n",
       "      <td>finland</td>\n",
       "      <td>31.1</td>\n",
       "      <td>65.4</td>\n",
       "      <td>32.8</td>\n",
       "      <td>62.1</td>\n",
       "      <td>61.6</td>\n",
       "      <td>NaN</td>\n",
       "      <td>16099.0</td>\n",
       "      <td>24.2</td>\n",
       "      <td>0.17</td>\n",
       "      <td>0.32</td>\n",
       "      <td>2016</td>\n",
       "      <td>5152.0</td>\n",
       "      <td>10947.0</td>\n",
       "      <td>0.470588</td>\n",
       "    </tr>\n",
       "    <tr>\n",
       "      <th>2</th>\n",
       "      <td>2101</td>\n",
       "      <td>2105</td>\n",
       "      <td>301-350</td>\n",
       "      <td>aberystwyth university</td>\n",
       "      <td>united kingdom</td>\n",
       "      <td>21.6</td>\n",
       "      <td>72.2</td>\n",
       "      <td>18.9</td>\n",
       "      <td>67.2</td>\n",
       "      <td>31.3</td>\n",
       "      <td>NaN</td>\n",
       "      <td>9252.0</td>\n",
       "      <td>19.2</td>\n",
       "      <td>0.18</td>\n",
       "      <td>0.48</td>\n",
       "      <td>2016</td>\n",
       "      <td>4441.0</td>\n",
       "      <td>4811.0</td>\n",
       "      <td>0.923077</td>\n",
       "    </tr>\n",
       "    <tr>\n",
       "      <th>3</th>\n",
       "      <td>2401</td>\n",
       "      <td>2406</td>\n",
       "      <td>601-800</td>\n",
       "      <td>ajou university</td>\n",
       "      <td>south korea</td>\n",
       "      <td>19.5</td>\n",
       "      <td>20.0</td>\n",
       "      <td>11.9</td>\n",
       "      <td>23.9</td>\n",
       "      <td>45.7</td>\n",
       "      <td>NaN</td>\n",
       "      <td>12706.0</td>\n",
       "      <td>11.3</td>\n",
       "      <td>0.02</td>\n",
       "      <td>0.33</td>\n",
       "      <td>2016</td>\n",
       "      <td>4193.0</td>\n",
       "      <td>8513.0</td>\n",
       "      <td>0.492537</td>\n",
       "    </tr>\n",
       "    <tr>\n",
       "      <th>4</th>\n",
       "      <td>2403</td>\n",
       "      <td>2408</td>\n",
       "      <td>601-800</td>\n",
       "      <td>alexandria university</td>\n",
       "      <td>egypt</td>\n",
       "      <td>20.3</td>\n",
       "      <td>33.7</td>\n",
       "      <td>8.2</td>\n",
       "      <td>14.1</td>\n",
       "      <td>29.7</td>\n",
       "      <td>NaN</td>\n",
       "      <td>127431.0</td>\n",
       "      <td>23.3</td>\n",
       "      <td>0.01</td>\n",
       "      <td>0.46</td>\n",
       "      <td>2016</td>\n",
       "      <td>58618.0</td>\n",
       "      <td>68813.0</td>\n",
       "      <td>0.851852</td>\n",
       "    </tr>\n",
       "  </tbody>\n",
       "</table>\n",
       "</div>"
      ],
      "text/plain": [
       "   level_0  index world_rank         university_name         country  \\\n",
       "0     1999   2003    201-250      aalborg university         denmark   \n",
       "1     2052   2056    251-300        aalto university         finland   \n",
       "2     2101   2105    301-350  aberystwyth university  united kingdom   \n",
       "3     2401   2406    601-800         ajou university     south korea   \n",
       "4     2403   2408    601-800   alexandria university           egypt   \n",
       "\n",
       "   teaching  international  research  citations  income  total_score  \\\n",
       "0      25.1           71.0      28.4       73.8    43.7          NaN   \n",
       "1      31.1           65.4      32.8       62.1    61.6          NaN   \n",
       "2      21.6           72.2      18.9       67.2    31.3          NaN   \n",
       "3      19.5           20.0      11.9       23.9    45.7          NaN   \n",
       "4      20.3           33.7       8.2       14.1    29.7          NaN   \n",
       "\n",
       "   num_students  student_staff_ratio  international_students  female_ratio  \\\n",
       "0       17422.0                 15.9                    0.15          0.48   \n",
       "1       16099.0                 24.2                    0.17          0.32   \n",
       "2        9252.0                 19.2                    0.18          0.48   \n",
       "3       12706.0                 11.3                    0.02          0.33   \n",
       "4      127431.0                 23.3                    0.01          0.46   \n",
       "\n",
       "   year  female_num  male_num  fm_ratio  \n",
       "0  2016      8363.0    9059.0  0.923077  \n",
       "1  2016      5152.0   10947.0  0.470588  \n",
       "2  2016      4441.0    4811.0  0.923077  \n",
       "3  2016      4193.0    8513.0  0.492537  \n",
       "4  2016     58618.0   68813.0  0.851852  "
      ]
     },
     "execution_count": 60,
     "metadata": {},
     "output_type": "execute_result"
    }
   ],
   "source": [
    "uni_under=times_most_recent.loc[times_most_recent['fm_ratio']<meanfmratio].reset_index()\n",
    "uni_under.head(5)"
   ]
  },
  {
   "cell_type": "markdown",
   "metadata": {},
   "source": [
    "# 7. For each country compute the fraction of students that are in one of the universities computed in the previous point.\n",
    "\n"
   ]
  },
  {
   "cell_type": "markdown",
   "metadata": {},
   "source": [
    "Si prendono i due dataframe contenenti rispettivamente tutte le università e le sole università con rapporto *female_ratio* / *male_ratio* sotto la media, per ciascuna si raggruppa per paese e si ricava il numero di studenti, si calcola infine la frazione per ogni paese."
   ]
  },
  {
   "cell_type": "markdown",
   "metadata": {},
   "source": [
    "Si lavora sul dataframe con tutte le università."
   ]
  },
  {
   "cell_type": "code",
   "execution_count": 61,
   "metadata": {
    "scrolled": true
   },
   "outputs": [
    {
     "data": {
      "text/html": [
       "<div>\n",
       "<style scoped>\n",
       "    .dataframe tbody tr th:only-of-type {\n",
       "        vertical-align: middle;\n",
       "    }\n",
       "\n",
       "    .dataframe tbody tr th {\n",
       "        vertical-align: top;\n",
       "    }\n",
       "\n",
       "    .dataframe thead th {\n",
       "        text-align: right;\n",
       "    }\n",
       "</style>\n",
       "<table border=\"1\" class=\"dataframe\">\n",
       "  <thead>\n",
       "    <tr style=\"text-align: right;\">\n",
       "      <th></th>\n",
       "      <th>country</th>\n",
       "      <th>num_students</th>\n",
       "    </tr>\n",
       "  </thead>\n",
       "  <tbody>\n",
       "    <tr>\n",
       "      <th>0</th>\n",
       "      <td>argentina</td>\n",
       "      <td>108373.0</td>\n",
       "    </tr>\n",
       "    <tr>\n",
       "      <th>1</th>\n",
       "      <td>australia</td>\n",
       "      <td>743627.0</td>\n",
       "    </tr>\n",
       "    <tr>\n",
       "      <th>2</th>\n",
       "      <td>austria</td>\n",
       "      <td>134477.0</td>\n",
       "    </tr>\n",
       "    <tr>\n",
       "      <th>3</th>\n",
       "      <td>bangladesh</td>\n",
       "      <td>62716.0</td>\n",
       "    </tr>\n",
       "    <tr>\n",
       "      <th>4</th>\n",
       "      <td>belarus</td>\n",
       "      <td>29303.0</td>\n",
       "    </tr>\n",
       "  </tbody>\n",
       "</table>\n",
       "</div>"
      ],
      "text/plain": [
       "      country  num_students\n",
       "0   argentina      108373.0\n",
       "1   australia      743627.0\n",
       "2     austria      134477.0\n",
       "3  bangladesh       62716.0\n",
       "4     belarus       29303.0"
      ]
     },
     "execution_count": 61,
     "metadata": {},
     "output_type": "execute_result"
    }
   ],
   "source": [
    "ratio_country_tot = times_most_recent.groupby('country')['num_students'].sum().reset_index()\n",
    "ratio_country_tot.head(5)"
   ]
  },
  {
   "cell_type": "markdown",
   "metadata": {},
   "source": [
    "Si lavora sul dataframe con le università sotto la media.\n",
    "\n"
   ]
  },
  {
   "cell_type": "code",
   "execution_count": 62,
   "metadata": {
    "scrolled": true
   },
   "outputs": [
    {
     "data": {
      "text/html": [
       "<div>\n",
       "<style scoped>\n",
       "    .dataframe tbody tr th:only-of-type {\n",
       "        vertical-align: middle;\n",
       "    }\n",
       "\n",
       "    .dataframe tbody tr th {\n",
       "        vertical-align: top;\n",
       "    }\n",
       "\n",
       "    .dataframe thead th {\n",
       "        text-align: right;\n",
       "    }\n",
       "</style>\n",
       "<table border=\"1\" class=\"dataframe\">\n",
       "  <thead>\n",
       "    <tr style=\"text-align: right;\">\n",
       "      <th></th>\n",
       "      <th>country</th>\n",
       "      <th>num_students</th>\n",
       "    </tr>\n",
       "  </thead>\n",
       "  <tbody>\n",
       "    <tr>\n",
       "      <th>0</th>\n",
       "      <td>australia</td>\n",
       "      <td>146235.0</td>\n",
       "    </tr>\n",
       "    <tr>\n",
       "      <th>1</th>\n",
       "      <td>austria</td>\n",
       "      <td>61033.0</td>\n",
       "    </tr>\n",
       "    <tr>\n",
       "      <th>2</th>\n",
       "      <td>bangladesh</td>\n",
       "      <td>62716.0</td>\n",
       "    </tr>\n",
       "    <tr>\n",
       "      <th>3</th>\n",
       "      <td>brazil</td>\n",
       "      <td>319211.0</td>\n",
       "    </tr>\n",
       "    <tr>\n",
       "      <th>4</th>\n",
       "      <td>canada</td>\n",
       "      <td>86779.0</td>\n",
       "    </tr>\n",
       "  </tbody>\n",
       "</table>\n",
       "</div>"
      ],
      "text/plain": [
       "      country  num_students\n",
       "0   australia      146235.0\n",
       "1     austria       61033.0\n",
       "2  bangladesh       62716.0\n",
       "3      brazil      319211.0\n",
       "4      canada       86779.0"
      ]
     },
     "execution_count": 62,
     "metadata": {},
     "output_type": "execute_result"
    }
   ],
   "source": [
    "ratio_country_under = uni_under.groupby('country')['num_students'].sum().reset_index()\n",
    "ratio_country_under.head(5)"
   ]
  },
  {
   "cell_type": "markdown",
   "metadata": {},
   "source": [
    "Si mette tutto insieme."
   ]
  },
  {
   "cell_type": "code",
   "execution_count": 63,
   "metadata": {
    "scrolled": true
   },
   "outputs": [
    {
     "data": {
      "text/html": [
       "<div>\n",
       "<style scoped>\n",
       "    .dataframe tbody tr th:only-of-type {\n",
       "        vertical-align: middle;\n",
       "    }\n",
       "\n",
       "    .dataframe tbody tr th {\n",
       "        vertical-align: top;\n",
       "    }\n",
       "\n",
       "    .dataframe thead th {\n",
       "        text-align: right;\n",
       "    }\n",
       "</style>\n",
       "<table border=\"1\" class=\"dataframe\">\n",
       "  <thead>\n",
       "    <tr style=\"text-align: right;\">\n",
       "      <th></th>\n",
       "      <th>country</th>\n",
       "      <th>num_students_tot</th>\n",
       "      <th>num_students_under</th>\n",
       "    </tr>\n",
       "  </thead>\n",
       "  <tbody>\n",
       "    <tr>\n",
       "      <th>0</th>\n",
       "      <td>australia</td>\n",
       "      <td>743627.0</td>\n",
       "      <td>146235.0</td>\n",
       "    </tr>\n",
       "    <tr>\n",
       "      <th>1</th>\n",
       "      <td>austria</td>\n",
       "      <td>134477.0</td>\n",
       "      <td>61033.0</td>\n",
       "    </tr>\n",
       "    <tr>\n",
       "      <th>2</th>\n",
       "      <td>bangladesh</td>\n",
       "      <td>62716.0</td>\n",
       "      <td>62716.0</td>\n",
       "    </tr>\n",
       "    <tr>\n",
       "      <th>3</th>\n",
       "      <td>brazil</td>\n",
       "      <td>534688.0</td>\n",
       "      <td>319211.0</td>\n",
       "    </tr>\n",
       "    <tr>\n",
       "      <th>4</th>\n",
       "      <td>canada</td>\n",
       "      <td>717054.0</td>\n",
       "      <td>86779.0</td>\n",
       "    </tr>\n",
       "  </tbody>\n",
       "</table>\n",
       "</div>"
      ],
      "text/plain": [
       "      country  num_students_tot  num_students_under\n",
       "0   australia          743627.0            146235.0\n",
       "1     austria          134477.0             61033.0\n",
       "2  bangladesh           62716.0             62716.0\n",
       "3      brazil          534688.0            319211.0\n",
       "4      canada          717054.0             86779.0"
      ]
     },
     "execution_count": 63,
     "metadata": {},
     "output_type": "execute_result"
    }
   ],
   "source": [
    "ratio_all = ratio_country_tot.merge(ratio_country_under, on = 'country', suffixes = ('_tot', '_under'))\n",
    "ratio_all.head(5)"
   ]
  },
  {
   "cell_type": "markdown",
   "metadata": {},
   "source": [
    "Per ogni paese si calcola il rapporto."
   ]
  },
  {
   "cell_type": "code",
   "execution_count": 64,
   "metadata": {
    "scrolled": true
   },
   "outputs": [
    {
     "data": {
      "text/html": [
       "<div>\n",
       "<style scoped>\n",
       "    .dataframe tbody tr th:only-of-type {\n",
       "        vertical-align: middle;\n",
       "    }\n",
       "\n",
       "    .dataframe tbody tr th {\n",
       "        vertical-align: top;\n",
       "    }\n",
       "\n",
       "    .dataframe thead th {\n",
       "        text-align: right;\n",
       "    }\n",
       "</style>\n",
       "<table border=\"1\" class=\"dataframe\">\n",
       "  <thead>\n",
       "    <tr style=\"text-align: right;\">\n",
       "      <th></th>\n",
       "      <th>country</th>\n",
       "      <th>num_students_tot</th>\n",
       "      <th>num_students_under</th>\n",
       "      <th>fraction</th>\n",
       "    </tr>\n",
       "  </thead>\n",
       "  <tbody>\n",
       "    <tr>\n",
       "      <th>0</th>\n",
       "      <td>australia</td>\n",
       "      <td>743627.0</td>\n",
       "      <td>146235.0</td>\n",
       "      <td>0.196651</td>\n",
       "    </tr>\n",
       "    <tr>\n",
       "      <th>1</th>\n",
       "      <td>austria</td>\n",
       "      <td>134477.0</td>\n",
       "      <td>61033.0</td>\n",
       "      <td>0.453855</td>\n",
       "    </tr>\n",
       "    <tr>\n",
       "      <th>2</th>\n",
       "      <td>bangladesh</td>\n",
       "      <td>62716.0</td>\n",
       "      <td>62716.0</td>\n",
       "      <td>1.000000</td>\n",
       "    </tr>\n",
       "    <tr>\n",
       "      <th>3</th>\n",
       "      <td>brazil</td>\n",
       "      <td>534688.0</td>\n",
       "      <td>319211.0</td>\n",
       "      <td>0.597004</td>\n",
       "    </tr>\n",
       "    <tr>\n",
       "      <th>4</th>\n",
       "      <td>canada</td>\n",
       "      <td>717054.0</td>\n",
       "      <td>86779.0</td>\n",
       "      <td>0.121022</td>\n",
       "    </tr>\n",
       "  </tbody>\n",
       "</table>\n",
       "</div>"
      ],
      "text/plain": [
       "      country  num_students_tot  num_students_under  fraction\n",
       "0   australia          743627.0            146235.0  0.196651\n",
       "1     austria          134477.0             61033.0  0.453855\n",
       "2  bangladesh           62716.0             62716.0  1.000000\n",
       "3      brazil          534688.0            319211.0  0.597004\n",
       "4      canada          717054.0             86779.0  0.121022"
      ]
     },
     "execution_count": 64,
     "metadata": {},
     "output_type": "execute_result"
    }
   ],
   "source": [
    "ratio_all['fraction']=ratio_all['num_students_under']/ratio_all['num_students_tot']\n",
    "ratio_all.head(5)"
   ]
  },
  {
   "cell_type": "markdown",
   "metadata": {},
   "source": [
    "# 8. Read the file educational_attainment_supplementary_data.csv, discarding any row without country_name or series_name\n",
    "\n"
   ]
  },
  {
   "cell_type": "code",
   "execution_count": 65,
   "metadata": {
    "scrolled": true
   },
   "outputs": [
    {
     "data": {
      "text/html": [
       "<div>\n",
       "<style scoped>\n",
       "    .dataframe tbody tr th:only-of-type {\n",
       "        vertical-align: middle;\n",
       "    }\n",
       "\n",
       "    .dataframe tbody tr th {\n",
       "        vertical-align: top;\n",
       "    }\n",
       "\n",
       "    .dataframe thead th {\n",
       "        text-align: right;\n",
       "    }\n",
       "</style>\n",
       "<table border=\"1\" class=\"dataframe\">\n",
       "  <thead>\n",
       "    <tr style=\"text-align: right;\">\n",
       "      <th></th>\n",
       "      <th>country_name</th>\n",
       "      <th>series_name</th>\n",
       "      <th>1985</th>\n",
       "      <th>1986</th>\n",
       "      <th>1987</th>\n",
       "      <th>1990</th>\n",
       "      <th>1991</th>\n",
       "      <th>1992</th>\n",
       "      <th>1993</th>\n",
       "      <th>1995</th>\n",
       "      <th>...</th>\n",
       "      <th>2005</th>\n",
       "      <th>2006</th>\n",
       "      <th>2007</th>\n",
       "      <th>2008</th>\n",
       "      <th>2009</th>\n",
       "      <th>2010</th>\n",
       "      <th>2011</th>\n",
       "      <th>2012</th>\n",
       "      <th>2013</th>\n",
       "      <th>2015</th>\n",
       "    </tr>\n",
       "  </thead>\n",
       "  <tbody>\n",
       "    <tr>\n",
       "      <th>79050</th>\n",
       "      <td>NaN</td>\n",
       "      <td>NaN</td>\n",
       "      <td>NaN</td>\n",
       "      <td>NaN</td>\n",
       "      <td>NaN</td>\n",
       "      <td>NaN</td>\n",
       "      <td>NaN</td>\n",
       "      <td>NaN</td>\n",
       "      <td>NaN</td>\n",
       "      <td>NaN</td>\n",
       "      <td>...</td>\n",
       "      <td>NaN</td>\n",
       "      <td>NaN</td>\n",
       "      <td>NaN</td>\n",
       "      <td>NaN</td>\n",
       "      <td>NaN</td>\n",
       "      <td>NaN</td>\n",
       "      <td>NaN</td>\n",
       "      <td>NaN</td>\n",
       "      <td>NaN</td>\n",
       "      <td>NaN</td>\n",
       "    </tr>\n",
       "    <tr>\n",
       "      <th>79051</th>\n",
       "      <td>NaN</td>\n",
       "      <td>NaN</td>\n",
       "      <td>NaN</td>\n",
       "      <td>NaN</td>\n",
       "      <td>NaN</td>\n",
       "      <td>NaN</td>\n",
       "      <td>NaN</td>\n",
       "      <td>NaN</td>\n",
       "      <td>NaN</td>\n",
       "      <td>NaN</td>\n",
       "      <td>...</td>\n",
       "      <td>NaN</td>\n",
       "      <td>NaN</td>\n",
       "      <td>NaN</td>\n",
       "      <td>NaN</td>\n",
       "      <td>NaN</td>\n",
       "      <td>NaN</td>\n",
       "      <td>NaN</td>\n",
       "      <td>NaN</td>\n",
       "      <td>NaN</td>\n",
       "      <td>NaN</td>\n",
       "    </tr>\n",
       "    <tr>\n",
       "      <th>79052</th>\n",
       "      <td>NaN</td>\n",
       "      <td>NaN</td>\n",
       "      <td>NaN</td>\n",
       "      <td>NaN</td>\n",
       "      <td>NaN</td>\n",
       "      <td>NaN</td>\n",
       "      <td>NaN</td>\n",
       "      <td>NaN</td>\n",
       "      <td>NaN</td>\n",
       "      <td>NaN</td>\n",
       "      <td>...</td>\n",
       "      <td>NaN</td>\n",
       "      <td>NaN</td>\n",
       "      <td>NaN</td>\n",
       "      <td>NaN</td>\n",
       "      <td>NaN</td>\n",
       "      <td>NaN</td>\n",
       "      <td>NaN</td>\n",
       "      <td>NaN</td>\n",
       "      <td>NaN</td>\n",
       "      <td>NaN</td>\n",
       "    </tr>\n",
       "    <tr>\n",
       "      <th>79053</th>\n",
       "      <td>Data from database: Education Statistics: Educ...</td>\n",
       "      <td>NaN</td>\n",
       "      <td>NaN</td>\n",
       "      <td>NaN</td>\n",
       "      <td>NaN</td>\n",
       "      <td>NaN</td>\n",
       "      <td>NaN</td>\n",
       "      <td>NaN</td>\n",
       "      <td>NaN</td>\n",
       "      <td>NaN</td>\n",
       "      <td>...</td>\n",
       "      <td>NaN</td>\n",
       "      <td>NaN</td>\n",
       "      <td>NaN</td>\n",
       "      <td>NaN</td>\n",
       "      <td>NaN</td>\n",
       "      <td>NaN</td>\n",
       "      <td>NaN</td>\n",
       "      <td>NaN</td>\n",
       "      <td>NaN</td>\n",
       "      <td>NaN</td>\n",
       "    </tr>\n",
       "    <tr>\n",
       "      <th>79054</th>\n",
       "      <td>Last Updated: 10/20/2015</td>\n",
       "      <td>NaN</td>\n",
       "      <td>NaN</td>\n",
       "      <td>NaN</td>\n",
       "      <td>NaN</td>\n",
       "      <td>NaN</td>\n",
       "      <td>NaN</td>\n",
       "      <td>NaN</td>\n",
       "      <td>NaN</td>\n",
       "      <td>NaN</td>\n",
       "      <td>...</td>\n",
       "      <td>NaN</td>\n",
       "      <td>NaN</td>\n",
       "      <td>NaN</td>\n",
       "      <td>NaN</td>\n",
       "      <td>NaN</td>\n",
       "      <td>NaN</td>\n",
       "      <td>NaN</td>\n",
       "      <td>NaN</td>\n",
       "      <td>NaN</td>\n",
       "      <td>NaN</td>\n",
       "    </tr>\n",
       "  </tbody>\n",
       "</table>\n",
       "<p>5 rows × 29 columns</p>\n",
       "</div>"
      ],
      "text/plain": [
       "                                            country_name series_name  1985  \\\n",
       "79050                                                NaN         NaN   NaN   \n",
       "79051                                                NaN         NaN   NaN   \n",
       "79052                                                NaN         NaN   NaN   \n",
       "79053  Data from database: Education Statistics: Educ...         NaN   NaN   \n",
       "79054                           Last Updated: 10/20/2015         NaN   NaN   \n",
       "\n",
       "       1986  1987  1990  1991  1992  1993  1995  ...  2005  2006  2007  2008  \\\n",
       "79050   NaN   NaN   NaN   NaN   NaN   NaN   NaN  ...   NaN   NaN   NaN   NaN   \n",
       "79051   NaN   NaN   NaN   NaN   NaN   NaN   NaN  ...   NaN   NaN   NaN   NaN   \n",
       "79052   NaN   NaN   NaN   NaN   NaN   NaN   NaN  ...   NaN   NaN   NaN   NaN   \n",
       "79053   NaN   NaN   NaN   NaN   NaN   NaN   NaN  ...   NaN   NaN   NaN   NaN   \n",
       "79054   NaN   NaN   NaN   NaN   NaN   NaN   NaN  ...   NaN   NaN   NaN   NaN   \n",
       "\n",
       "       2009  2010  2011  2012  2013  2015  \n",
       "79050   NaN   NaN   NaN   NaN   NaN   NaN  \n",
       "79051   NaN   NaN   NaN   NaN   NaN   NaN  \n",
       "79052   NaN   NaN   NaN   NaN   NaN   NaN  \n",
       "79053   NaN   NaN   NaN   NaN   NaN   NaN  \n",
       "79054   NaN   NaN   NaN   NaN   NaN   NaN  \n",
       "\n",
       "[5 rows x 29 columns]"
      ]
     },
     "execution_count": 65,
     "metadata": {},
     "output_type": "execute_result"
    }
   ],
   "source": [
    "eduatt = pd.read_csv(\"educational_attainment_supplementary_data.csv\")\n",
    "eduatt.tail(5)"
   ]
  },
  {
   "cell_type": "code",
   "execution_count": 66,
   "metadata": {},
   "outputs": [
    {
     "data": {
      "text/html": [
       "<div>\n",
       "<style scoped>\n",
       "    .dataframe tbody tr th:only-of-type {\n",
       "        vertical-align: middle;\n",
       "    }\n",
       "\n",
       "    .dataframe tbody tr th {\n",
       "        vertical-align: top;\n",
       "    }\n",
       "\n",
       "    .dataframe thead th {\n",
       "        text-align: right;\n",
       "    }\n",
       "</style>\n",
       "<table border=\"1\" class=\"dataframe\">\n",
       "  <thead>\n",
       "    <tr style=\"text-align: right;\">\n",
       "      <th></th>\n",
       "      <th>country_name</th>\n",
       "      <th>series_name</th>\n",
       "      <th>1985</th>\n",
       "      <th>1986</th>\n",
       "      <th>1987</th>\n",
       "      <th>1990</th>\n",
       "      <th>1991</th>\n",
       "      <th>1992</th>\n",
       "      <th>1993</th>\n",
       "      <th>1995</th>\n",
       "      <th>...</th>\n",
       "      <th>2005</th>\n",
       "      <th>2006</th>\n",
       "      <th>2007</th>\n",
       "      <th>2008</th>\n",
       "      <th>2009</th>\n",
       "      <th>2010</th>\n",
       "      <th>2011</th>\n",
       "      <th>2012</th>\n",
       "      <th>2013</th>\n",
       "      <th>2015</th>\n",
       "    </tr>\n",
       "  </thead>\n",
       "  <tbody>\n",
       "    <tr>\n",
       "      <th>79045</th>\n",
       "      <td>Zimbabwe</td>\n",
       "      <td>UIS: Percentage of population age 25+ with som...</td>\n",
       "      <td>NaN</td>\n",
       "      <td>NaN</td>\n",
       "      <td>NaN</td>\n",
       "      <td>NaN</td>\n",
       "      <td>NaN</td>\n",
       "      <td>NaN</td>\n",
       "      <td>NaN</td>\n",
       "      <td>NaN</td>\n",
       "      <td>...</td>\n",
       "      <td>NaN</td>\n",
       "      <td>NaN</td>\n",
       "      <td>NaN</td>\n",
       "      <td>NaN</td>\n",
       "      <td>NaN</td>\n",
       "      <td>NaN</td>\n",
       "      <td>NaN</td>\n",
       "      <td>13.84323</td>\n",
       "      <td>NaN</td>\n",
       "      <td>NaN</td>\n",
       "    </tr>\n",
       "    <tr>\n",
       "      <th>79046</th>\n",
       "      <td>Zimbabwe</td>\n",
       "      <td>UIS: Percentage of population age 25+ with som...</td>\n",
       "      <td>NaN</td>\n",
       "      <td>NaN</td>\n",
       "      <td>NaN</td>\n",
       "      <td>NaN</td>\n",
       "      <td>NaN</td>\n",
       "      <td>NaN</td>\n",
       "      <td>NaN</td>\n",
       "      <td>NaN</td>\n",
       "      <td>...</td>\n",
       "      <td>NaN</td>\n",
       "      <td>NaN</td>\n",
       "      <td>NaN</td>\n",
       "      <td>NaN</td>\n",
       "      <td>NaN</td>\n",
       "      <td>NaN</td>\n",
       "      <td>NaN</td>\n",
       "      <td>16.68491</td>\n",
       "      <td>NaN</td>\n",
       "      <td>NaN</td>\n",
       "    </tr>\n",
       "    <tr>\n",
       "      <th>79047</th>\n",
       "      <td>Zimbabwe</td>\n",
       "      <td>UIS: Percentage of population age 25+ with unk...</td>\n",
       "      <td>NaN</td>\n",
       "      <td>NaN</td>\n",
       "      <td>NaN</td>\n",
       "      <td>NaN</td>\n",
       "      <td>NaN</td>\n",
       "      <td>NaN</td>\n",
       "      <td>NaN</td>\n",
       "      <td>NaN</td>\n",
       "      <td>...</td>\n",
       "      <td>NaN</td>\n",
       "      <td>NaN</td>\n",
       "      <td>NaN</td>\n",
       "      <td>NaN</td>\n",
       "      <td>NaN</td>\n",
       "      <td>NaN</td>\n",
       "      <td>NaN</td>\n",
       "      <td>11.99412</td>\n",
       "      <td>NaN</td>\n",
       "      <td>NaN</td>\n",
       "    </tr>\n",
       "    <tr>\n",
       "      <th>79048</th>\n",
       "      <td>Zimbabwe</td>\n",
       "      <td>UIS: Percentage of population age 25+ with unk...</td>\n",
       "      <td>NaN</td>\n",
       "      <td>NaN</td>\n",
       "      <td>NaN</td>\n",
       "      <td>NaN</td>\n",
       "      <td>NaN</td>\n",
       "      <td>NaN</td>\n",
       "      <td>NaN</td>\n",
       "      <td>NaN</td>\n",
       "      <td>...</td>\n",
       "      <td>NaN</td>\n",
       "      <td>NaN</td>\n",
       "      <td>NaN</td>\n",
       "      <td>NaN</td>\n",
       "      <td>NaN</td>\n",
       "      <td>NaN</td>\n",
       "      <td>NaN</td>\n",
       "      <td>5.77150</td>\n",
       "      <td>NaN</td>\n",
       "      <td>NaN</td>\n",
       "    </tr>\n",
       "    <tr>\n",
       "      <th>79049</th>\n",
       "      <td>Zimbabwe</td>\n",
       "      <td>UIS: Percentage of population age 25+ with unk...</td>\n",
       "      <td>NaN</td>\n",
       "      <td>NaN</td>\n",
       "      <td>NaN</td>\n",
       "      <td>NaN</td>\n",
       "      <td>NaN</td>\n",
       "      <td>NaN</td>\n",
       "      <td>NaN</td>\n",
       "      <td>NaN</td>\n",
       "      <td>...</td>\n",
       "      <td>NaN</td>\n",
       "      <td>NaN</td>\n",
       "      <td>NaN</td>\n",
       "      <td>NaN</td>\n",
       "      <td>NaN</td>\n",
       "      <td>NaN</td>\n",
       "      <td>NaN</td>\n",
       "      <td>9.14588</td>\n",
       "      <td>NaN</td>\n",
       "      <td>NaN</td>\n",
       "    </tr>\n",
       "  </tbody>\n",
       "</table>\n",
       "<p>5 rows × 29 columns</p>\n",
       "</div>"
      ],
      "text/plain": [
       "      country_name                                        series_name  1985  \\\n",
       "79045     Zimbabwe  UIS: Percentage of population age 25+ with som...   NaN   \n",
       "79046     Zimbabwe  UIS: Percentage of population age 25+ with som...   NaN   \n",
       "79047     Zimbabwe  UIS: Percentage of population age 25+ with unk...   NaN   \n",
       "79048     Zimbabwe  UIS: Percentage of population age 25+ with unk...   NaN   \n",
       "79049     Zimbabwe  UIS: Percentage of population age 25+ with unk...   NaN   \n",
       "\n",
       "       1986  1987  1990  1991  1992  1993  1995  ...  2005  2006  2007  2008  \\\n",
       "79045   NaN   NaN   NaN   NaN   NaN   NaN   NaN  ...   NaN   NaN   NaN   NaN   \n",
       "79046   NaN   NaN   NaN   NaN   NaN   NaN   NaN  ...   NaN   NaN   NaN   NaN   \n",
       "79047   NaN   NaN   NaN   NaN   NaN   NaN   NaN  ...   NaN   NaN   NaN   NaN   \n",
       "79048   NaN   NaN   NaN   NaN   NaN   NaN   NaN  ...   NaN   NaN   NaN   NaN   \n",
       "79049   NaN   NaN   NaN   NaN   NaN   NaN   NaN  ...   NaN   NaN   NaN   NaN   \n",
       "\n",
       "       2009  2010  2011      2012  2013  2015  \n",
       "79045   NaN   NaN   NaN  13.84323   NaN   NaN  \n",
       "79046   NaN   NaN   NaN  16.68491   NaN   NaN  \n",
       "79047   NaN   NaN   NaN  11.99412   NaN   NaN  \n",
       "79048   NaN   NaN   NaN   5.77150   NaN   NaN  \n",
       "79049   NaN   NaN   NaN   9.14588   NaN   NaN  \n",
       "\n",
       "[5 rows x 29 columns]"
      ]
     },
     "execution_count": 66,
     "metadata": {},
     "output_type": "execute_result"
    }
   ],
   "source": [
    "eduatt=eduatt.loc[(eduatt['country_name'].notnull()) & (eduatt['series_name'].notnull())].copy()\n",
    "eduatt.tail(5)"
   ]
  },
  {
   "cell_type": "markdown",
   "metadata": {},
   "source": [
    "# 9. From attainment build a dataframe with the same data, but with 4 columns: country_name, series_name, year, value\n",
    "\n"
   ]
  },
  {
   "cell_type": "code",
   "execution_count": 67,
   "metadata": {},
   "outputs": [
    {
     "data": {
      "text/html": [
       "<div>\n",
       "<style scoped>\n",
       "    .dataframe tbody tr th:only-of-type {\n",
       "        vertical-align: middle;\n",
       "    }\n",
       "\n",
       "    .dataframe tbody tr th {\n",
       "        vertical-align: top;\n",
       "    }\n",
       "\n",
       "    .dataframe thead th {\n",
       "        text-align: right;\n",
       "    }\n",
       "</style>\n",
       "<table border=\"1\" class=\"dataframe\">\n",
       "  <thead>\n",
       "    <tr style=\"text-align: right;\">\n",
       "      <th></th>\n",
       "      <th>country_name</th>\n",
       "      <th>series_name</th>\n",
       "      <th>year</th>\n",
       "      <th>value</th>\n",
       "    </tr>\n",
       "  </thead>\n",
       "  <tbody>\n",
       "    <tr>\n",
       "      <th>0</th>\n",
       "      <td>Afghanistan</td>\n",
       "      <td>Barro-Lee: Average years of primary schooling,...</td>\n",
       "      <td>1985</td>\n",
       "      <td>0.33</td>\n",
       "    </tr>\n",
       "    <tr>\n",
       "      <th>1</th>\n",
       "      <td>Afghanistan</td>\n",
       "      <td>Barro-Lee: Average years of primary schooling,...</td>\n",
       "      <td>1985</td>\n",
       "      <td>1.03</td>\n",
       "    </tr>\n",
       "    <tr>\n",
       "      <th>2</th>\n",
       "      <td>Afghanistan</td>\n",
       "      <td>Barro-Lee: Average years of primary schooling,...</td>\n",
       "      <td>1985</td>\n",
       "      <td>0.83</td>\n",
       "    </tr>\n",
       "    <tr>\n",
       "      <th>3</th>\n",
       "      <td>Afghanistan</td>\n",
       "      <td>Barro-Lee: Average years of primary schooling,...</td>\n",
       "      <td>1985</td>\n",
       "      <td>2.34</td>\n",
       "    </tr>\n",
       "    <tr>\n",
       "      <th>4</th>\n",
       "      <td>Afghanistan</td>\n",
       "      <td>Barro-Lee: Average years of primary schooling,...</td>\n",
       "      <td>1985</td>\n",
       "      <td>0.54</td>\n",
       "    </tr>\n",
       "  </tbody>\n",
       "</table>\n",
       "</div>"
      ],
      "text/plain": [
       "  country_name                                        series_name  year  value\n",
       "0  Afghanistan  Barro-Lee: Average years of primary schooling,...  1985   0.33\n",
       "1  Afghanistan  Barro-Lee: Average years of primary schooling,...  1985   1.03\n",
       "2  Afghanistan  Barro-Lee: Average years of primary schooling,...  1985   0.83\n",
       "3  Afghanistan  Barro-Lee: Average years of primary schooling,...  1985   2.34\n",
       "4  Afghanistan  Barro-Lee: Average years of primary schooling,...  1985   0.54"
      ]
     },
     "execution_count": 67,
     "metadata": {},
     "output_type": "execute_result"
    }
   ],
   "source": [
    "new_eduatt = pd.melt(eduatt, id_vars=['country_name', 'series_name'], var_name='year')\n",
    "new_eduatt.head(5)"
   ]
  },
  {
   "cell_type": "markdown",
   "metadata": {},
   "source": [
    "Le colonne che non sono specificate in *id_vars* vengono trasformate in due nuove variabili *year* e *value*. "
   ]
  },
  {
   "cell_type": "code",
   "execution_count": 68,
   "metadata": {},
   "outputs": [
    {
     "data": {
      "text/html": [
       "<div>\n",
       "<style scoped>\n",
       "    .dataframe tbody tr th:only-of-type {\n",
       "        vertical-align: middle;\n",
       "    }\n",
       "\n",
       "    .dataframe tbody tr th {\n",
       "        vertical-align: top;\n",
       "    }\n",
       "\n",
       "    .dataframe thead th {\n",
       "        text-align: right;\n",
       "    }\n",
       "</style>\n",
       "<table border=\"1\" class=\"dataframe\">\n",
       "  <thead>\n",
       "    <tr style=\"text-align: right;\">\n",
       "      <th></th>\n",
       "      <th>country_name</th>\n",
       "      <th>series_name</th>\n",
       "      <th>year</th>\n",
       "      <th>value</th>\n",
       "    </tr>\n",
       "  </thead>\n",
       "  <tbody>\n",
       "    <tr>\n",
       "      <th>0</th>\n",
       "      <td>Afghanistan</td>\n",
       "      <td>Barro-Lee: Average years of primary schooling,...</td>\n",
       "      <td>1985</td>\n",
       "      <td>0.33</td>\n",
       "    </tr>\n",
       "    <tr>\n",
       "      <th>1</th>\n",
       "      <td>Afghanistan</td>\n",
       "      <td>Barro-Lee: Average years of primary schooling,...</td>\n",
       "      <td>1985</td>\n",
       "      <td>1.03</td>\n",
       "    </tr>\n",
       "    <tr>\n",
       "      <th>2</th>\n",
       "      <td>Afghanistan</td>\n",
       "      <td>Barro-Lee: Average years of primary schooling,...</td>\n",
       "      <td>1985</td>\n",
       "      <td>0.83</td>\n",
       "    </tr>\n",
       "    <tr>\n",
       "      <th>3</th>\n",
       "      <td>Afghanistan</td>\n",
       "      <td>Barro-Lee: Average years of primary schooling,...</td>\n",
       "      <td>1985</td>\n",
       "      <td>2.34</td>\n",
       "    </tr>\n",
       "    <tr>\n",
       "      <th>4</th>\n",
       "      <td>Afghanistan</td>\n",
       "      <td>Barro-Lee: Average years of primary schooling,...</td>\n",
       "      <td>1985</td>\n",
       "      <td>0.54</td>\n",
       "    </tr>\n",
       "  </tbody>\n",
       "</table>\n",
       "</div>"
      ],
      "text/plain": [
       "  country_name                                        series_name  year  value\n",
       "0  Afghanistan  Barro-Lee: Average years of primary schooling,...  1985   0.33\n",
       "1  Afghanistan  Barro-Lee: Average years of primary schooling,...  1985   1.03\n",
       "2  Afghanistan  Barro-Lee: Average years of primary schooling,...  1985   0.83\n",
       "3  Afghanistan  Barro-Lee: Average years of primary schooling,...  1985   2.34\n",
       "4  Afghanistan  Barro-Lee: Average years of primary schooling,...  1985   0.54"
      ]
     },
     "execution_count": 68,
     "metadata": {},
     "output_type": "execute_result"
    }
   ],
   "source": [
    "new_eduatt = new_eduatt.loc[new_eduatt['value'].notnull()]\n",
    "new_eduatt.head(5)"
   ]
  },
  {
   "cell_type": "markdown",
   "metadata": {},
   "source": [
    "# 10. For each university, find the number of rankings in which they appear (it suffices to appear in one year for each ranking).\n",
    "\n"
   ]
  },
  {
   "cell_type": "code",
   "execution_count": 69,
   "metadata": {},
   "outputs": [],
   "source": [
    "def count_generator(df, name_df):\n",
    "    return pd.DataFrame(list(zip(set(df['university_name']), np.repeat(1, len(set(df['university_name'])), axis = 0))),\n",
    "                        columns = ['university_name', name_df])"
   ]
  },
  {
   "cell_type": "markdown",
   "metadata": {},
   "source": [
    "La funzione attesta la presenza di un'università all'interno di ogni ranking."
   ]
  },
  {
   "cell_type": "code",
   "execution_count": 70,
   "metadata": {},
   "outputs": [],
   "source": [
    "times_unis = count_generator(df = times, name_df = 'times')\n",
    "shangai_unis = count_generator(df = shangai, name_df = 'shangai')\n",
    "cwur_unis = count_generator(df = cwur, name_df = 'cwur')"
   ]
  },
  {
   "cell_type": "code",
   "execution_count": 71,
   "metadata": {},
   "outputs": [
    {
     "data": {
      "text/html": [
       "<div>\n",
       "<style scoped>\n",
       "    .dataframe tbody tr th:only-of-type {\n",
       "        vertical-align: middle;\n",
       "    }\n",
       "\n",
       "    .dataframe tbody tr th {\n",
       "        vertical-align: top;\n",
       "    }\n",
       "\n",
       "    .dataframe thead th {\n",
       "        text-align: right;\n",
       "    }\n",
       "</style>\n",
       "<table border=\"1\" class=\"dataframe\">\n",
       "  <thead>\n",
       "    <tr style=\"text-align: right;\">\n",
       "      <th></th>\n",
       "      <th>university_name</th>\n",
       "      <th>times</th>\n",
       "    </tr>\n",
       "  </thead>\n",
       "  <tbody>\n",
       "    <tr>\n",
       "      <th>0</th>\n",
       "      <td>sheffield hallam university</td>\n",
       "      <td>1</td>\n",
       "    </tr>\n",
       "    <tr>\n",
       "      <th>1</th>\n",
       "      <td>universiti putra malaysia</td>\n",
       "      <td>1</td>\n",
       "    </tr>\n",
       "    <tr>\n",
       "      <th>2</th>\n",
       "      <td>university of minnesota</td>\n",
       "      <td>1</td>\n",
       "    </tr>\n",
       "    <tr>\n",
       "      <th>3</th>\n",
       "      <td>istanbul technical university</td>\n",
       "      <td>1</td>\n",
       "    </tr>\n",
       "    <tr>\n",
       "      <th>4</th>\n",
       "      <td>showa university</td>\n",
       "      <td>1</td>\n",
       "    </tr>\n",
       "  </tbody>\n",
       "</table>\n",
       "</div>"
      ],
      "text/plain": [
       "                 university_name  times\n",
       "0    sheffield hallam university      1\n",
       "1      universiti putra malaysia      1\n",
       "2        university of minnesota      1\n",
       "3  istanbul technical university      1\n",
       "4               showa university      1"
      ]
     },
     "execution_count": 71,
     "metadata": {},
     "output_type": "execute_result"
    }
   ],
   "source": [
    "times_unis.head(5)"
   ]
  },
  {
   "cell_type": "code",
   "execution_count": 72,
   "metadata": {},
   "outputs": [],
   "source": [
    "all_unis = times_unis.merge(\n",
    "    shangai_unis, on = 'university_name', how = 'outer').merge(\n",
    "        cwur_unis,  on = 'university_name', how = 'outer')"
   ]
  },
  {
   "cell_type": "code",
   "execution_count": 73,
   "metadata": {},
   "outputs": [],
   "source": [
    "all_unis.fillna(0, inplace = True)\n",
    "all_unis['times'] = all_unis['times'].astype(int)\n",
    "all_unis['shangai'] = all_unis['shangai'].astype(int)\n",
    "all_unis['cwur'] = all_unis['cwur'].astype(int)"
   ]
  },
  {
   "cell_type": "markdown",
   "metadata": {},
   "source": [
    "Si sostituiscono i valori mancanti con uno 0 che sta ad indicare l'assenza dell'università in questione nel ranking considerato. Facendo poi una semplice somma si ottiene il valore corrispondente al numero di ranking in cui figura l'università considerata."
   ]
  },
  {
   "cell_type": "code",
   "execution_count": 74,
   "metadata": {},
   "outputs": [],
   "source": [
    "all_unis['presence'] = all_unis['times'] + all_unis['shangai'] + all_unis['cwur']"
   ]
  },
  {
   "cell_type": "code",
   "execution_count": 75,
   "metadata": {},
   "outputs": [
    {
     "data": {
      "text/html": [
       "<div>\n",
       "<style scoped>\n",
       "    .dataframe tbody tr th:only-of-type {\n",
       "        vertical-align: middle;\n",
       "    }\n",
       "\n",
       "    .dataframe tbody tr th {\n",
       "        vertical-align: top;\n",
       "    }\n",
       "\n",
       "    .dataframe thead th {\n",
       "        text-align: right;\n",
       "    }\n",
       "</style>\n",
       "<table border=\"1\" class=\"dataframe\">\n",
       "  <thead>\n",
       "    <tr style=\"text-align: right;\">\n",
       "      <th></th>\n",
       "      <th>university_name</th>\n",
       "      <th>times</th>\n",
       "      <th>shangai</th>\n",
       "      <th>cwur</th>\n",
       "      <th>presence</th>\n",
       "    </tr>\n",
       "  </thead>\n",
       "  <tbody>\n",
       "    <tr>\n",
       "      <th>0</th>\n",
       "      <td>sheffield hallam university</td>\n",
       "      <td>1</td>\n",
       "      <td>0</td>\n",
       "      <td>0</td>\n",
       "      <td>1</td>\n",
       "    </tr>\n",
       "    <tr>\n",
       "      <th>1</th>\n",
       "      <td>universiti putra malaysia</td>\n",
       "      <td>1</td>\n",
       "      <td>0</td>\n",
       "      <td>0</td>\n",
       "      <td>1</td>\n",
       "    </tr>\n",
       "    <tr>\n",
       "      <th>2</th>\n",
       "      <td>university of minnesota</td>\n",
       "      <td>1</td>\n",
       "      <td>0</td>\n",
       "      <td>0</td>\n",
       "      <td>1</td>\n",
       "    </tr>\n",
       "    <tr>\n",
       "      <th>3</th>\n",
       "      <td>istanbul technical university</td>\n",
       "      <td>1</td>\n",
       "      <td>0</td>\n",
       "      <td>1</td>\n",
       "      <td>2</td>\n",
       "    </tr>\n",
       "    <tr>\n",
       "      <th>4</th>\n",
       "      <td>showa university</td>\n",
       "      <td>1</td>\n",
       "      <td>0</td>\n",
       "      <td>1</td>\n",
       "      <td>2</td>\n",
       "    </tr>\n",
       "    <tr>\n",
       "      <th>...</th>\n",
       "      <td>...</td>\n",
       "      <td>...</td>\n",
       "      <td>...</td>\n",
       "      <td>...</td>\n",
       "      <td>...</td>\n",
       "    </tr>\n",
       "    <tr>\n",
       "      <th>1310</th>\n",
       "      <td>university of california, merced</td>\n",
       "      <td>0</td>\n",
       "      <td>0</td>\n",
       "      <td>1</td>\n",
       "      <td>1</td>\n",
       "    </tr>\n",
       "    <tr>\n",
       "      <th>1311</th>\n",
       "      <td>third military medical university</td>\n",
       "      <td>0</td>\n",
       "      <td>0</td>\n",
       "      <td>1</td>\n",
       "      <td>1</td>\n",
       "    </tr>\n",
       "    <tr>\n",
       "      <th>1312</th>\n",
       "      <td>western michigan university</td>\n",
       "      <td>0</td>\n",
       "      <td>0</td>\n",
       "      <td>1</td>\n",
       "      <td>1</td>\n",
       "    </tr>\n",
       "    <tr>\n",
       "      <th>1313</th>\n",
       "      <td>wrocław university of technology</td>\n",
       "      <td>0</td>\n",
       "      <td>0</td>\n",
       "      <td>1</td>\n",
       "      <td>1</td>\n",
       "    </tr>\n",
       "    <tr>\n",
       "      <th>1314</th>\n",
       "      <td>university of michigan, ann arbor</td>\n",
       "      <td>0</td>\n",
       "      <td>0</td>\n",
       "      <td>1</td>\n",
       "      <td>1</td>\n",
       "    </tr>\n",
       "  </tbody>\n",
       "</table>\n",
       "<p>1315 rows × 5 columns</p>\n",
       "</div>"
      ],
      "text/plain": [
       "                        university_name  times  shangai  cwur  presence\n",
       "0           sheffield hallam university      1        0     0         1\n",
       "1             universiti putra malaysia      1        0     0         1\n",
       "2               university of minnesota      1        0     0         1\n",
       "3         istanbul technical university      1        0     1         2\n",
       "4                      showa university      1        0     1         2\n",
       "...                                 ...    ...      ...   ...       ...\n",
       "1310   university of california, merced      0        0     1         1\n",
       "1311  third military medical university      0        0     1         1\n",
       "1312        western michigan university      0        0     1         1\n",
       "1313   wrocław university of technology      0        0     1         1\n",
       "1314  university of michigan, ann arbor      0        0     1         1\n",
       "\n",
       "[1315 rows x 5 columns]"
      ]
     },
     "execution_count": 75,
     "metadata": {},
     "output_type": "execute_result"
    }
   ],
   "source": [
    "all_unis"
   ]
  },
  {
   "cell_type": "markdown",
   "metadata": {},
   "source": [
    "# 11. In the times ranking, compute the number of times each university appears\n",
    "\n"
   ]
  },
  {
   "cell_type": "code",
   "execution_count": 76,
   "metadata": {},
   "outputs": [],
   "source": [
    "years_count = times.groupby('university_name').year.count().reset_index()\n",
    "years_count.rename(columns={\"year\": \"presences\"}, inplace = True)"
   ]
  },
  {
   "cell_type": "code",
   "execution_count": 77,
   "metadata": {},
   "outputs": [
    {
     "data": {
      "text/html": [
       "<div>\n",
       "<style scoped>\n",
       "    .dataframe tbody tr th:only-of-type {\n",
       "        vertical-align: middle;\n",
       "    }\n",
       "\n",
       "    .dataframe tbody tr th {\n",
       "        vertical-align: top;\n",
       "    }\n",
       "\n",
       "    .dataframe thead th {\n",
       "        text-align: right;\n",
       "    }\n",
       "</style>\n",
       "<table border=\"1\" class=\"dataframe\">\n",
       "  <thead>\n",
       "    <tr style=\"text-align: right;\">\n",
       "      <th></th>\n",
       "      <th>university_name</th>\n",
       "      <th>presences</th>\n",
       "    </tr>\n",
       "  </thead>\n",
       "  <tbody>\n",
       "    <tr>\n",
       "      <th>0</th>\n",
       "      <td>aalborg university</td>\n",
       "      <td>5</td>\n",
       "    </tr>\n",
       "    <tr>\n",
       "      <th>1</th>\n",
       "      <td>aalto university</td>\n",
       "      <td>5</td>\n",
       "    </tr>\n",
       "    <tr>\n",
       "      <th>2</th>\n",
       "      <td>aarhus university</td>\n",
       "      <td>6</td>\n",
       "    </tr>\n",
       "    <tr>\n",
       "      <th>3</th>\n",
       "      <td>aberystwyth university</td>\n",
       "      <td>5</td>\n",
       "    </tr>\n",
       "    <tr>\n",
       "      <th>4</th>\n",
       "      <td>adam mickiewicz university</td>\n",
       "      <td>1</td>\n",
       "    </tr>\n",
       "  </tbody>\n",
       "</table>\n",
       "</div>"
      ],
      "text/plain": [
       "              university_name  presences\n",
       "0          aalborg university          5\n",
       "1            aalto university          5\n",
       "2           aarhus university          6\n",
       "3      aberystwyth university          5\n",
       "4  adam mickiewicz university          1"
      ]
     },
     "execution_count": 77,
     "metadata": {},
     "output_type": "execute_result"
    }
   ],
   "source": [
    "years_count.head(5)"
   ]
  },
  {
   "cell_type": "markdown",
   "metadata": {},
   "source": [
    "# 12. Find the universities that appear at most twice in the times ranking.\n",
    "\n"
   ]
  },
  {
   "cell_type": "code",
   "execution_count": 78,
   "metadata": {},
   "outputs": [
    {
     "data": {
      "text/html": [
       "<div>\n",
       "<style scoped>\n",
       "    .dataframe tbody tr th:only-of-type {\n",
       "        vertical-align: middle;\n",
       "    }\n",
       "\n",
       "    .dataframe tbody tr th {\n",
       "        vertical-align: top;\n",
       "    }\n",
       "\n",
       "    .dataframe thead th {\n",
       "        text-align: right;\n",
       "    }\n",
       "</style>\n",
       "<table border=\"1\" class=\"dataframe\">\n",
       "  <thead>\n",
       "    <tr style=\"text-align: right;\">\n",
       "      <th></th>\n",
       "      <th>university_name</th>\n",
       "      <th>presences</th>\n",
       "    </tr>\n",
       "  </thead>\n",
       "  <tbody>\n",
       "    <tr>\n",
       "      <th>4</th>\n",
       "      <td>adam mickiewicz university</td>\n",
       "      <td>1</td>\n",
       "    </tr>\n",
       "    <tr>\n",
       "      <th>5</th>\n",
       "      <td>agh university of science and technology</td>\n",
       "      <td>1</td>\n",
       "    </tr>\n",
       "    <tr>\n",
       "      <th>6</th>\n",
       "      <td>aix-marseille university</td>\n",
       "      <td>1</td>\n",
       "    </tr>\n",
       "    <tr>\n",
       "      <th>7</th>\n",
       "      <td>ajou university</td>\n",
       "      <td>1</td>\n",
       "    </tr>\n",
       "    <tr>\n",
       "      <th>9</th>\n",
       "      <td>alexandru ioan cuza university</td>\n",
       "      <td>1</td>\n",
       "    </tr>\n",
       "  </tbody>\n",
       "</table>\n",
       "</div>"
      ],
      "text/plain": [
       "                            university_name  presences\n",
       "4                adam mickiewicz university          1\n",
       "5  agh university of science and technology          1\n",
       "6                  aix-marseille university          1\n",
       "7                           ajou university          1\n",
       "9            alexandru ioan cuza university          1"
      ]
     },
     "execution_count": 78,
     "metadata": {},
     "output_type": "execute_result"
    }
   ],
   "source": [
    "years_count.loc[years_count.presences <= 2].head(5)"
   ]
  },
  {
   "cell_type": "markdown",
   "metadata": {},
   "source": [
    "# 13. The universities that, in any year, have the same position in all three rankings (they must have the same position in a year)."
   ]
  },
  {
   "cell_type": "markdown",
   "metadata": {},
   "source": [
    "Si esegue un merge sulla base del nome dell'università e dell'anno."
   ]
  },
  {
   "cell_type": "code",
   "execution_count": 79,
   "metadata": {},
   "outputs": [],
   "source": [
    "total = times[['university_name', 'year', 'world_rank']].merge(\n",
    "    shangai[['university_name', 'year', 'world_rank']], on = ['university_name', 'year'], how = 'inner').merge(\n",
    "    cwur[['university_name', 'year', 'world_rank']],  on = ['university_name', 'year'], how = 'inner')"
   ]
  },
  {
   "cell_type": "code",
   "execution_count": 80,
   "metadata": {},
   "outputs": [],
   "source": [
    "total.rename(columns = {'world_rank_x' : 'times', 'world_rank_y': 'shangai', 'world_rank': 'cwur'}, inplace = True)"
   ]
  },
  {
   "cell_type": "code",
   "execution_count": 81,
   "metadata": {},
   "outputs": [
    {
     "data": {
      "text/html": [
       "<div>\n",
       "<style scoped>\n",
       "    .dataframe tbody tr th:only-of-type {\n",
       "        vertical-align: middle;\n",
       "    }\n",
       "\n",
       "    .dataframe tbody tr th {\n",
       "        vertical-align: top;\n",
       "    }\n",
       "\n",
       "    .dataframe thead th {\n",
       "        text-align: right;\n",
       "    }\n",
       "</style>\n",
       "<table border=\"1\" class=\"dataframe\">\n",
       "  <thead>\n",
       "    <tr style=\"text-align: right;\">\n",
       "      <th></th>\n",
       "      <th>university_name</th>\n",
       "      <th>year</th>\n",
       "      <th>times</th>\n",
       "      <th>shangai</th>\n",
       "      <th>cwur</th>\n",
       "    </tr>\n",
       "  </thead>\n",
       "  <tbody>\n",
       "    <tr>\n",
       "      <th>0</th>\n",
       "      <td>california institute of technology</td>\n",
       "      <td>2012</td>\n",
       "      <td>1</td>\n",
       "      <td>6</td>\n",
       "      <td>5</td>\n",
       "    </tr>\n",
       "    <tr>\n",
       "      <th>1</th>\n",
       "      <td>harvard university</td>\n",
       "      <td>2012</td>\n",
       "      <td>2</td>\n",
       "      <td>1</td>\n",
       "      <td>1</td>\n",
       "    </tr>\n",
       "    <tr>\n",
       "      <th>2</th>\n",
       "      <td>stanford university</td>\n",
       "      <td>2012</td>\n",
       "      <td>2</td>\n",
       "      <td>2</td>\n",
       "      <td>3</td>\n",
       "    </tr>\n",
       "    <tr>\n",
       "      <th>3</th>\n",
       "      <td>university of oxford</td>\n",
       "      <td>2012</td>\n",
       "      <td>4</td>\n",
       "      <td>10</td>\n",
       "      <td>7</td>\n",
       "    </tr>\n",
       "    <tr>\n",
       "      <th>4</th>\n",
       "      <td>princeton university</td>\n",
       "      <td>2012</td>\n",
       "      <td>5</td>\n",
       "      <td>7</td>\n",
       "      <td>6</td>\n",
       "    </tr>\n",
       "  </tbody>\n",
       "</table>\n",
       "</div>"
      ],
      "text/plain": [
       "                      university_name  year times shangai  cwur\n",
       "0  california institute of technology  2012     1       6     5\n",
       "1                  harvard university  2012     2       1     1\n",
       "2                 stanford university  2012     2       2     3\n",
       "3                university of oxford  2012     4      10     7\n",
       "4                princeton university  2012     5       7     6"
      ]
     },
     "execution_count": 81,
     "metadata": {},
     "output_type": "execute_result"
    }
   ],
   "source": [
    "total.head(5)"
   ]
  },
  {
   "cell_type": "markdown",
   "metadata": {},
   "source": [
    "In *Times* e *Shangai* oltre una certa posizione in classifica non viene più riportato il valore puntuale ma un range. Si estraggono quindi gli estremi di tale range."
   ]
  },
  {
   "cell_type": "code",
   "execution_count": 82,
   "metadata": {},
   "outputs": [],
   "source": [
    "total['times_lower'] = ranger(total['times'])[1]\n",
    "total['times_upper'] = ranger(total['times'])[0]\n",
    "total['shangai_lower'] = ranger(total['shangai'])[1]\n",
    "total['shangai_upper'] = ranger(total['shangai'])[0]\n",
    "\n",
    "total['times_upper'] = total['times_upper'].astype(int)\n",
    "total['times_lower'] = total['times_lower'].astype(int)\n",
    "total['shangai_upper'] = total['shangai_upper'].astype(int)\n",
    "total['shangai_lower'] = total['shangai_lower'].astype(int)"
   ]
  },
  {
   "cell_type": "code",
   "execution_count": 83,
   "metadata": {
    "scrolled": true
   },
   "outputs": [
    {
     "data": {
      "text/html": [
       "<div>\n",
       "<style scoped>\n",
       "    .dataframe tbody tr th:only-of-type {\n",
       "        vertical-align: middle;\n",
       "    }\n",
       "\n",
       "    .dataframe tbody tr th {\n",
       "        vertical-align: top;\n",
       "    }\n",
       "\n",
       "    .dataframe thead th {\n",
       "        text-align: right;\n",
       "    }\n",
       "</style>\n",
       "<table border=\"1\" class=\"dataframe\">\n",
       "  <thead>\n",
       "    <tr style=\"text-align: right;\">\n",
       "      <th></th>\n",
       "      <th>university_name</th>\n",
       "      <th>year</th>\n",
       "      <th>times</th>\n",
       "      <th>shangai</th>\n",
       "      <th>cwur</th>\n",
       "      <th>times_lower</th>\n",
       "      <th>times_upper</th>\n",
       "      <th>shangai_lower</th>\n",
       "      <th>shangai_upper</th>\n",
       "    </tr>\n",
       "  </thead>\n",
       "  <tbody>\n",
       "    <tr>\n",
       "      <th>0</th>\n",
       "      <td>california institute of technology</td>\n",
       "      <td>2012</td>\n",
       "      <td>1</td>\n",
       "      <td>6</td>\n",
       "      <td>5</td>\n",
       "      <td>1</td>\n",
       "      <td>1</td>\n",
       "      <td>6</td>\n",
       "      <td>6</td>\n",
       "    </tr>\n",
       "    <tr>\n",
       "      <th>1</th>\n",
       "      <td>harvard university</td>\n",
       "      <td>2012</td>\n",
       "      <td>2</td>\n",
       "      <td>1</td>\n",
       "      <td>1</td>\n",
       "      <td>2</td>\n",
       "      <td>2</td>\n",
       "      <td>1</td>\n",
       "      <td>1</td>\n",
       "    </tr>\n",
       "    <tr>\n",
       "      <th>2</th>\n",
       "      <td>stanford university</td>\n",
       "      <td>2012</td>\n",
       "      <td>2</td>\n",
       "      <td>2</td>\n",
       "      <td>3</td>\n",
       "      <td>2</td>\n",
       "      <td>2</td>\n",
       "      <td>2</td>\n",
       "      <td>2</td>\n",
       "    </tr>\n",
       "    <tr>\n",
       "      <th>3</th>\n",
       "      <td>university of oxford</td>\n",
       "      <td>2012</td>\n",
       "      <td>4</td>\n",
       "      <td>10</td>\n",
       "      <td>7</td>\n",
       "      <td>4</td>\n",
       "      <td>4</td>\n",
       "      <td>10</td>\n",
       "      <td>10</td>\n",
       "    </tr>\n",
       "    <tr>\n",
       "      <th>4</th>\n",
       "      <td>princeton university</td>\n",
       "      <td>2012</td>\n",
       "      <td>5</td>\n",
       "      <td>7</td>\n",
       "      <td>6</td>\n",
       "      <td>5</td>\n",
       "      <td>5</td>\n",
       "      <td>7</td>\n",
       "      <td>7</td>\n",
       "    </tr>\n",
       "  </tbody>\n",
       "</table>\n",
       "</div>"
      ],
      "text/plain": [
       "                      university_name  year times shangai  cwur  times_lower  \\\n",
       "0  california institute of technology  2012     1       6     5            1   \n",
       "1                  harvard university  2012     2       1     1            2   \n",
       "2                 stanford university  2012     2       2     3            2   \n",
       "3                university of oxford  2012     4      10     7            4   \n",
       "4                princeton university  2012     5       7     6            5   \n",
       "\n",
       "   times_upper  shangai_lower  shangai_upper  \n",
       "0            1              6              6  \n",
       "1            2              1              1  \n",
       "2            2              2              2  \n",
       "3            4             10             10  \n",
       "4            5              7              7  "
      ]
     },
     "execution_count": 83,
     "metadata": {},
     "output_type": "execute_result"
    }
   ],
   "source": [
    "total.head(5)"
   ]
  },
  {
   "cell_type": "markdown",
   "metadata": {},
   "source": [
    "Le posizioni si considerano come corrispondenti se il valore puntuale presente in *cwur* ricade all'interno dell'intervallo riportato in *times* e *shangai*, ciò assicura anche che i due intervalli si tocchino, avendo essi sicuramente almeno un punto in comune. "
   ]
  },
  {
   "cell_type": "code",
   "execution_count": 84,
   "metadata": {},
   "outputs": [],
   "source": [
    "def position_match(row):\n",
    "    condition1 = (row.cwur <= row.times_upper) & (row.cwur >= row.times_lower)\n",
    "    condition2 = (row.cwur <= row.shangai_upper) & (row.cwur >= row.shangai_lower) \n",
    "    if (condition1 & condition2):\n",
    "        return 1\n",
    "    else:\n",
    "        return 0\n",
    "\n",
    "total['match'] = total.apply(position_match, axis = 1)"
   ]
  },
  {
   "cell_type": "code",
   "execution_count": 85,
   "metadata": {
    "scrolled": false
   },
   "outputs": [],
   "source": [
    "match=total.drop(['times', 'shangai'], axis = 1).groupby('university_name').match.sum().reset_index().sort_values('match', ascending = False)"
   ]
  },
  {
   "cell_type": "code",
   "execution_count": 86,
   "metadata": {},
   "outputs": [
    {
     "data": {
      "text/html": [
       "<div>\n",
       "<style scoped>\n",
       "    .dataframe tbody tr th:only-of-type {\n",
       "        vertical-align: middle;\n",
       "    }\n",
       "\n",
       "    .dataframe tbody tr th {\n",
       "        vertical-align: top;\n",
       "    }\n",
       "\n",
       "    .dataframe thead th {\n",
       "        text-align: right;\n",
       "    }\n",
       "</style>\n",
       "<table border=\"1\" class=\"dataframe\">\n",
       "  <thead>\n",
       "    <tr style=\"text-align: right;\">\n",
       "      <th></th>\n",
       "      <th>university_name</th>\n",
       "      <th>match</th>\n",
       "    </tr>\n",
       "  </thead>\n",
       "  <tbody>\n",
       "    <tr>\n",
       "      <th>63</th>\n",
       "      <td>linköping university</td>\n",
       "      <td>2</td>\n",
       "    </tr>\n",
       "    <tr>\n",
       "      <th>256</th>\n",
       "      <td>university of turku</td>\n",
       "      <td>1</td>\n",
       "    </tr>\n",
       "    <tr>\n",
       "      <th>70</th>\n",
       "      <td>medical university of vienna</td>\n",
       "      <td>1</td>\n",
       "    </tr>\n",
       "    <tr>\n",
       "      <th>261</th>\n",
       "      <td>university of vermont</td>\n",
       "      <td>1</td>\n",
       "    </tr>\n",
       "    <tr>\n",
       "      <th>267</th>\n",
       "      <td>university of waterloo</td>\n",
       "      <td>1</td>\n",
       "    </tr>\n",
       "    <tr>\n",
       "      <th>126</th>\n",
       "      <td>temple university</td>\n",
       "      <td>1</td>\n",
       "    </tr>\n",
       "    <tr>\n",
       "      <th>237</th>\n",
       "      <td>university of southampton</td>\n",
       "      <td>1</td>\n",
       "    </tr>\n",
       "    <tr>\n",
       "      <th>61</th>\n",
       "      <td>laval university</td>\n",
       "      <td>1</td>\n",
       "    </tr>\n",
       "    <tr>\n",
       "      <th>113</th>\n",
       "      <td>stanford university</td>\n",
       "      <td>1</td>\n",
       "    </tr>\n",
       "    <tr>\n",
       "      <th>5</th>\n",
       "      <td>autonomous university of barcelona</td>\n",
       "      <td>1</td>\n",
       "    </tr>\n",
       "    <tr>\n",
       "      <th>84</th>\n",
       "      <td>newcastle university</td>\n",
       "      <td>1</td>\n",
       "    </tr>\n",
       "  </tbody>\n",
       "</table>\n",
       "</div>"
      ],
      "text/plain": [
       "                        university_name  match\n",
       "63                 linköping university      2\n",
       "256                 university of turku      1\n",
       "70         medical university of vienna      1\n",
       "261               university of vermont      1\n",
       "267              university of waterloo      1\n",
       "126                   temple university      1\n",
       "237           university of southampton      1\n",
       "61                     laval university      1\n",
       "113                 stanford university      1\n",
       "5    autonomous university of barcelona      1\n",
       "84                 newcastle university      1"
      ]
     },
     "execution_count": 86,
     "metadata": {},
     "output_type": "execute_result"
    }
   ],
   "source": [
    "match.loc[match.match>0]"
   ]
  },
  {
   "cell_type": "markdown",
   "metadata": {},
   "source": [
    "## Bicocca"
   ]
  },
  {
   "cell_type": "code",
   "execution_count": 87,
   "metadata": {
    "scrolled": false
   },
   "outputs": [
    {
     "data": {
      "text/html": [
       "<div>\n",
       "<style scoped>\n",
       "    .dataframe tbody tr th:only-of-type {\n",
       "        vertical-align: middle;\n",
       "    }\n",
       "\n",
       "    .dataframe tbody tr th {\n",
       "        vertical-align: top;\n",
       "    }\n",
       "\n",
       "    .dataframe thead th {\n",
       "        text-align: right;\n",
       "    }\n",
       "</style>\n",
       "<table border=\"1\" class=\"dataframe\">\n",
       "  <thead>\n",
       "    <tr style=\"text-align: right;\">\n",
       "      <th></th>\n",
       "      <th>university_name</th>\n",
       "      <th>year</th>\n",
       "      <th>world_rank_times</th>\n",
       "      <th>world_rank_shangai</th>\n",
       "      <th>world_rank</th>\n",
       "    </tr>\n",
       "  </thead>\n",
       "  <tbody>\n",
       "    <tr>\n",
       "      <th>5920</th>\n",
       "      <td>university of milan-bicocca</td>\n",
       "      <td>2011</td>\n",
       "      <td>NaN</td>\n",
       "      <td>401-500</td>\n",
       "      <td>NaN</td>\n",
       "    </tr>\n",
       "    <tr>\n",
       "      <th>446</th>\n",
       "      <td>university of milan-bicocca</td>\n",
       "      <td>2012</td>\n",
       "      <td>226-250</td>\n",
       "      <td>NaN</td>\n",
       "      <td>NaN</td>\n",
       "    </tr>\n",
       "    <tr>\n",
       "      <th>871</th>\n",
       "      <td>university of milan-bicocca</td>\n",
       "      <td>2013</td>\n",
       "      <td>251-275</td>\n",
       "      <td>NaN</td>\n",
       "      <td>NaN</td>\n",
       "    </tr>\n",
       "    <tr>\n",
       "      <th>1244</th>\n",
       "      <td>university of milan-bicocca</td>\n",
       "      <td>2014</td>\n",
       "      <td>226-250</td>\n",
       "      <td>301-400</td>\n",
       "      <td>431.0</td>\n",
       "    </tr>\n",
       "    <tr>\n",
       "      <th>1650</th>\n",
       "      <td>university of milan-bicocca</td>\n",
       "      <td>2015</td>\n",
       "      <td>226-250</td>\n",
       "      <td>401-500</td>\n",
       "      <td>382.0</td>\n",
       "    </tr>\n",
       "    <tr>\n",
       "      <th>2129</th>\n",
       "      <td>university of milan-bicocca</td>\n",
       "      <td>2016</td>\n",
       "      <td>301-350</td>\n",
       "      <td>NaN</td>\n",
       "      <td>NaN</td>\n",
       "    </tr>\n",
       "  </tbody>\n",
       "</table>\n",
       "</div>"
      ],
      "text/plain": [
       "                  university_name  year world_rank_times world_rank_shangai  \\\n",
       "5920  university of milan-bicocca  2011              NaN            401-500   \n",
       "446   university of milan-bicocca  2012          226-250                NaN   \n",
       "871   university of milan-bicocca  2013          251-275                NaN   \n",
       "1244  university of milan-bicocca  2014          226-250            301-400   \n",
       "1650  university of milan-bicocca  2015          226-250            401-500   \n",
       "2129  university of milan-bicocca  2016          301-350                NaN   \n",
       "\n",
       "      world_rank  \n",
       "5920         NaN  \n",
       "446          NaN  \n",
       "871          NaN  \n",
       "1244       431.0  \n",
       "1650       382.0  \n",
       "2129         NaN  "
      ]
     },
     "execution_count": 87,
     "metadata": {},
     "output_type": "execute_result"
    }
   ],
   "source": [
    "stotal = times[['university_name', 'year', 'world_rank']].merge(\n",
    "    shangai[['university_name', 'year', 'world_rank']], on = ['university_name', 'year'], how = 'outer', suffixes=('_times', '_shangai')).merge(\n",
    "    cwur[['university_name', 'year', 'world_rank']],  on = ['university_name', 'year'], how = 'outer')\n",
    "\n",
    "stotal.loc[stotal.university_name.str.match(r'.*bicocca')].sort_values('year')"
   ]
  }
 ],
 "metadata": {
  "kernelspec": {
   "display_name": "Python 3",
   "language": "python",
   "name": "python3"
  },
  "language_info": {
   "codemirror_mode": {
    "name": "ipython",
    "version": 3
   },
   "file_extension": ".py",
   "mimetype": "text/x-python",
   "name": "python",
   "nbconvert_exporter": "python",
   "pygments_lexer": "ipython3",
   "version": "3.7.9"
  }
 },
 "nbformat": 4,
 "nbformat_minor": 2
}
